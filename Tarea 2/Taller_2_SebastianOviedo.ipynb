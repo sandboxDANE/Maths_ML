{
 "cells": [
  {
   "cell_type": "code",
   "execution_count": 1,
   "metadata": {},
   "outputs": [],
   "source": [
    "using Pkg"
   ]
  },
  {
   "cell_type": "markdown",
   "metadata": {},
   "source": [
    "# Taller 2\n",
    "Author: Juan Sebastián Oviedo\n"
   ]
  },
  {
   "cell_type": "code",
   "execution_count": 2,
   "metadata": {},
   "outputs": [
    {
     "name": "stderr",
     "output_type": "stream",
     "text": [
      "\u001b[32m\u001b[1m    Updating\u001b[22m\u001b[39m registry at `~/.julia/registries/General.toml`\n",
      "\u001b[32m\u001b[1m   Resolving\u001b[22m\u001b[39m package versions...\n",
      "\u001b[32m\u001b[1m  No Changes\u001b[22m\u001b[39m to `~/.julia/environments/v1.7/Project.toml`\n",
      "\u001b[32m\u001b[1m  No Changes\u001b[22m\u001b[39m to `~/.julia/environments/v1.7/Manifest.toml`\n",
      "\u001b[32m\u001b[1m   Resolving\u001b[22m\u001b[39m package versions...\n",
      "\u001b[32m\u001b[1m  No Changes\u001b[22m\u001b[39m to `~/.julia/environments/v1.7/Project.toml`\n",
      "\u001b[32m\u001b[1m  No Changes\u001b[22m\u001b[39m to `~/.julia/environments/v1.7/Manifest.toml`\n",
      "\u001b[32m\u001b[1m   Resolving\u001b[22m\u001b[39m package versions...\n",
      "\u001b[32m\u001b[1m  No Changes\u001b[22m\u001b[39m to `~/.julia/environments/v1.7/Project.toml`\n",
      "\u001b[32m\u001b[1m  No Changes\u001b[22m\u001b[39m to `~/.julia/environments/v1.7/Manifest.toml`\n",
      "\u001b[32m\u001b[1m   Resolving\u001b[22m\u001b[39m package versions...\n",
      "\u001b[32m\u001b[1m  No Changes\u001b[22m\u001b[39m to `~/.julia/environments/v1.7/Project.toml`\n",
      "\u001b[32m\u001b[1m  No Changes\u001b[22m\u001b[39m to `~/.julia/environments/v1.7/Manifest.toml`\n",
      "\u001b[32m\u001b[1m   Resolving\u001b[22m\u001b[39m package versions...\n",
      "\u001b[32m\u001b[1m  No Changes\u001b[22m\u001b[39m to `~/.julia/environments/v1.7/Project.toml`\n",
      "\u001b[32m\u001b[1m  No Changes\u001b[22m\u001b[39m to `~/.julia/environments/v1.7/Manifest.toml`\n",
      "\u001b[32m\u001b[1m   Resolving\u001b[22m\u001b[39m package versions...\n",
      "\u001b[32m\u001b[1m  No Changes\u001b[22m\u001b[39m to `~/.julia/environments/v1.7/Project.toml`\n",
      "\u001b[32m\u001b[1m  No Changes\u001b[22m\u001b[39m to `~/.julia/environments/v1.7/Manifest.toml`\n",
      "\u001b[32m\u001b[1m   Resolving\u001b[22m\u001b[39m package versions...\n",
      "\u001b[32m\u001b[1m  No Changes\u001b[22m\u001b[39m to `~/.julia/environments/v1.7/Project.toml`\n",
      "\u001b[32m\u001b[1m  No Changes\u001b[22m\u001b[39m to `~/.julia/environments/v1.7/Manifest.toml`\n",
      "\u001b[32m\u001b[1m   Resolving\u001b[22m\u001b[39m package versions...\n",
      "\u001b[32m\u001b[1m  No Changes\u001b[22m\u001b[39m to `~/.julia/environments/v1.7/Project.toml`\n",
      "\u001b[32m\u001b[1m  No Changes\u001b[22m\u001b[39m to `~/.julia/environments/v1.7/Manifest.toml`\n",
      "\u001b[32m\u001b[1m   Resolving\u001b[22m\u001b[39m package versions...\n",
      "\u001b[32m\u001b[1m  No Changes\u001b[22m\u001b[39m to `~/.julia/environments/v1.7/Project.toml`\n",
      "\u001b[32m\u001b[1m  No Changes\u001b[22m\u001b[39m to `~/.julia/environments/v1.7/Manifest.toml`\n",
      "\u001b[32m\u001b[1m   Resolving\u001b[22m\u001b[39m package versions...\n",
      "\u001b[32m\u001b[1m  No Changes\u001b[22m\u001b[39m to `~/.julia/environments/v1.7/Project.toml`\n",
      "\u001b[32m\u001b[1m  No Changes\u001b[22m\u001b[39m to `~/.julia/environments/v1.7/Manifest.toml`\n",
      "\u001b[32m\u001b[1m   Resolving\u001b[22m\u001b[39m package versions...\n",
      "\u001b[32m\u001b[1m  No Changes\u001b[22m\u001b[39m to `~/.julia/environments/v1.7/Project.toml`\n",
      "\u001b[32m\u001b[1m  No Changes\u001b[22m\u001b[39m to `~/.julia/environments/v1.7/Manifest.toml`\n",
      "\u001b[32m\u001b[1m   Resolving\u001b[22m\u001b[39m package versions...\n",
      "\u001b[32m\u001b[1m  No Changes\u001b[22m\u001b[39m to `~/.julia/environments/v1.7/Project.toml`\n",
      "\u001b[32m\u001b[1m  No Changes\u001b[22m\u001b[39m to `~/.julia/environments/v1.7/Manifest.toml`\n",
      "\u001b[32m\u001b[1m   Resolving\u001b[22m\u001b[39m package versions...\n",
      "\u001b[32m\u001b[1m  No Changes\u001b[22m\u001b[39m to `~/.julia/environments/v1.7/Project.toml`\n",
      "\u001b[32m\u001b[1m  No Changes\u001b[22m\u001b[39m to `~/.julia/environments/v1.7/Manifest.toml`\n",
      "\u001b[32m\u001b[1m   Resolving\u001b[22m\u001b[39m package versions...\n",
      "\u001b[32m\u001b[1m  No Changes\u001b[22m\u001b[39m to `~/.julia/environments/v1.7/Project.toml`\n",
      "\u001b[32m\u001b[1m  No Changes\u001b[22m\u001b[39m to `~/.julia/environments/v1.7/Manifest.toml`\n",
      "\u001b[32m\u001b[1m   Resolving\u001b[22m\u001b[39m package versions...\n",
      "\u001b[32m\u001b[1m  No Changes\u001b[22m\u001b[39m to `~/.julia/environments/v1.7/Project.toml`\n",
      "\u001b[32m\u001b[1m  No Changes\u001b[22m\u001b[39m to `~/.julia/environments/v1.7/Manifest.toml`\n"
     ]
    }
   ],
   "source": [
    "# Install packages \n",
    "Pkg.add(\"DataFrames\")\n",
    "Pkg.add(\"CSV\")\n",
    "Pkg.add(\"Plots\")\n",
    "Pkg.add(\"Lathe\")\n",
    "Pkg.add(\"GLM\")\n",
    "Pkg.add(\"StatsPlots\")\n",
    "Pkg.add(\"MLBase\")\n",
    "Pkg.add(\"DecisionTree\")\n",
    "Pkg.add(\"Distances\")\n",
    "Pkg.add(\"Random\")\n",
    "Pkg.add(\"LinearAlgebra\")\n",
    "Pkg.add(\"DataStructures\")\n",
    "Pkg.add(\"StatsBase\")\n",
    "Pkg.add(\"ClassImbalance\")\n",
    "Pkg.add(\"ScikitLearn\")"
   ]
  },
  {
   "cell_type": "code",
   "execution_count": 3,
   "metadata": {},
   "outputs": [
    {
     "data": {
      "text/plain": [
       "1000"
      ]
     },
     "execution_count": 3,
     "metadata": {},
     "output_type": "execute_result"
    }
   ],
   "source": [
    "# Load the installed packages\n",
    "using DataFrames\n",
    "using CSV\n",
    "using Plots\n",
    "using Lathe\n",
    "using GLM\n",
    "using Statistics\n",
    "##using StatsPlots\n",
    "using MLBase\n",
    "using DecisionTree\n",
    "using Distances\n",
    "using Random\n",
    "using LinearAlgebra\n",
    "using DataStructures\n",
    "using StatsBase\n",
    "using ClassImbalance\n",
    "using ScikitLearn\n",
    "\n",
    "# Enable printing of 1000 columns\n",
    "ENV[\"COLUMNS\"] = 1000"
   ]
  },
  {
   "cell_type": "code",
   "execution_count": 163,
   "metadata": {},
   "outputs": [
    {
     "data": {
      "text/html": [
       "<table class=\"data-frame\"><thead><tr><th></th><th>Feature1</th><th>Feature2</th><th>Feature3</th><th>Feature4</th><th>Feature5</th><th>Feature6</th><th>Feature7</th><th>Feature8</th><th>Feature9</th><th>Feature10</th><th>Feature11</th><th>Feature12</th><th>Feature13</th><th>Feature14</th><th>Feature15</th><th>Feature16</th><th>Feature17</th><th>Feature18</th><th>Feature19</th><th>Feature20</th><th>Feature21</th><th>Feature22</th><th>Feature23</th><th>Feature24</th><th>Feature25</th><th>Feature26</th><th>Feature27</th><th>Feature28</th><th>Feature29</th><th>Feature30</th><th>Feature31</th><th>Feature32</th><th>Feature33</th><th>Feature34</th><th>Feature35</th><th>Feature36</th><th>Feature37</th><th>Feature38</th><th>Feature39</th><th>Feature40</th><th>Feature41</th><th>Feature42</th><th>Feature43</th><th>Feature44</th><th>Feature45</th><th>Feature46</th><th>Feature47</th><th>Feature48</th><th>Feature49</th><th>Feature50</th><th>Feature51</th><th>Feature52</th><th>Feature53</th><th>Feature54</th><th>Feature55</th><th>Feature56</th><th>Feature57</th><th>Feature58</th><th>Feature59</th><th>Feature60</th><th>Clase</th></tr><tr><th></th><th>Float64</th><th>Float64</th><th>Float64</th><th>Float64</th><th>Float64</th><th>Float64</th><th>Float64</th><th>Float64</th><th>Float64</th><th>Float64</th><th>Float64</th><th>Float64</th><th>Float64</th><th>Float64</th><th>Float64</th><th>Float64</th><th>Float64</th><th>Float64</th><th>Float64</th><th>Float64</th><th>Float64</th><th>Float64</th><th>Float64</th><th>Float64</th><th>Float64</th><th>Float64</th><th>Float64</th><th>Float64</th><th>Float64</th><th>Float64</th><th>Float64</th><th>Float64</th><th>Float64</th><th>Float64</th><th>Float64</th><th>Float64</th><th>Float64</th><th>Float64</th><th>Float64</th><th>Float64</th><th>Float64</th><th>Float64</th><th>Float64</th><th>Float64</th><th>Float64</th><th>Float64</th><th>Float64</th><th>Float64</th><th>Float64</th><th>Float64</th><th>Float64</th><th>Float64</th><th>Float64</th><th>Float64</th><th>Float64</th><th>Float64</th><th>Float64</th><th>Float64</th><th>Float64</th><th>Float64</th><th>String1</th></tr></thead><tbody><p>5 rows × 61 columns</p><tr><th>1</th><td>0.02</td><td>0.0371</td><td>0.0428</td><td>0.0207</td><td>0.0954</td><td>0.0986</td><td>0.1539</td><td>0.1601</td><td>0.3109</td><td>0.2111</td><td>0.1609</td><td>0.1582</td><td>0.2238</td><td>0.0645</td><td>0.066</td><td>0.2273</td><td>0.31</td><td>0.2999</td><td>0.5078</td><td>0.4797</td><td>0.5783</td><td>0.5071</td><td>0.4328</td><td>0.555</td><td>0.6711</td><td>0.6415</td><td>0.7104</td><td>0.808</td><td>0.6791</td><td>0.3857</td><td>0.1307</td><td>0.2604</td><td>0.5121</td><td>0.7547</td><td>0.8537</td><td>0.8507</td><td>0.6692</td><td>0.6097</td><td>0.4943</td><td>0.2744</td><td>0.051</td><td>0.2834</td><td>0.2825</td><td>0.4256</td><td>0.2641</td><td>0.1386</td><td>0.1051</td><td>0.1343</td><td>0.0383</td><td>0.0324</td><td>0.0232</td><td>0.0027</td><td>0.0065</td><td>0.0159</td><td>0.0072</td><td>0.0167</td><td>0.018</td><td>0.0084</td><td>0.009</td><td>0.0032</td><td>R</td></tr><tr><th>2</th><td>0.0453</td><td>0.0523</td><td>0.0843</td><td>0.0689</td><td>0.1183</td><td>0.2583</td><td>0.2156</td><td>0.3481</td><td>0.3337</td><td>0.2872</td><td>0.4918</td><td>0.6552</td><td>0.6919</td><td>0.7797</td><td>0.7464</td><td>0.9444</td><td>1.0</td><td>0.8874</td><td>0.8024</td><td>0.7818</td><td>0.5212</td><td>0.4052</td><td>0.3957</td><td>0.3914</td><td>0.325</td><td>0.32</td><td>0.3271</td><td>0.2767</td><td>0.4423</td><td>0.2028</td><td>0.3788</td><td>0.2947</td><td>0.1984</td><td>0.2341</td><td>0.1306</td><td>0.4182</td><td>0.3835</td><td>0.1057</td><td>0.184</td><td>0.197</td><td>0.1674</td><td>0.0583</td><td>0.1401</td><td>0.1628</td><td>0.0621</td><td>0.0203</td><td>0.053</td><td>0.0742</td><td>0.0409</td><td>0.0061</td><td>0.0125</td><td>0.0084</td><td>0.0089</td><td>0.0048</td><td>0.0094</td><td>0.0191</td><td>0.014</td><td>0.0049</td><td>0.0052</td><td>0.0044</td><td>R</td></tr><tr><th>3</th><td>0.0262</td><td>0.0582</td><td>0.1099</td><td>0.1083</td><td>0.0974</td><td>0.228</td><td>0.2431</td><td>0.3771</td><td>0.5598</td><td>0.6194</td><td>0.6333</td><td>0.706</td><td>0.5544</td><td>0.532</td><td>0.6479</td><td>0.6931</td><td>0.6759</td><td>0.7551</td><td>0.8929</td><td>0.8619</td><td>0.7974</td><td>0.6737</td><td>0.4293</td><td>0.3648</td><td>0.5331</td><td>0.2413</td><td>0.507</td><td>0.8533</td><td>0.6036</td><td>0.8514</td><td>0.8512</td><td>0.5045</td><td>0.1862</td><td>0.2709</td><td>0.4232</td><td>0.3043</td><td>0.6116</td><td>0.6756</td><td>0.5375</td><td>0.4719</td><td>0.4647</td><td>0.2587</td><td>0.2129</td><td>0.2222</td><td>0.2111</td><td>0.0176</td><td>0.1348</td><td>0.0744</td><td>0.013</td><td>0.0106</td><td>0.0033</td><td>0.0232</td><td>0.0166</td><td>0.0095</td><td>0.018</td><td>0.0244</td><td>0.0316</td><td>0.0164</td><td>0.0095</td><td>0.0078</td><td>R</td></tr><tr><th>4</th><td>0.01</td><td>0.0171</td><td>0.0623</td><td>0.0205</td><td>0.0205</td><td>0.0368</td><td>0.1098</td><td>0.1276</td><td>0.0598</td><td>0.1264</td><td>0.0881</td><td>0.1992</td><td>0.0184</td><td>0.2261</td><td>0.1729</td><td>0.2131</td><td>0.0693</td><td>0.2281</td><td>0.406</td><td>0.3973</td><td>0.2741</td><td>0.369</td><td>0.5556</td><td>0.4846</td><td>0.314</td><td>0.5334</td><td>0.5256</td><td>0.252</td><td>0.209</td><td>0.3559</td><td>0.626</td><td>0.734</td><td>0.612</td><td>0.3497</td><td>0.3953</td><td>0.3012</td><td>0.5408</td><td>0.8814</td><td>0.9857</td><td>0.9167</td><td>0.6121</td><td>0.5006</td><td>0.321</td><td>0.3202</td><td>0.4295</td><td>0.3654</td><td>0.2655</td><td>0.1576</td><td>0.0681</td><td>0.0294</td><td>0.0241</td><td>0.0121</td><td>0.0036</td><td>0.015</td><td>0.0085</td><td>0.0073</td><td>0.005</td><td>0.0044</td><td>0.004</td><td>0.0117</td><td>R</td></tr><tr><th>5</th><td>0.0762</td><td>0.0666</td><td>0.0481</td><td>0.0394</td><td>0.059</td><td>0.0649</td><td>0.1209</td><td>0.2467</td><td>0.3564</td><td>0.4459</td><td>0.4152</td><td>0.3952</td><td>0.4256</td><td>0.4135</td><td>0.4528</td><td>0.5326</td><td>0.7306</td><td>0.6193</td><td>0.2032</td><td>0.4636</td><td>0.4148</td><td>0.4292</td><td>0.573</td><td>0.5399</td><td>0.3161</td><td>0.2285</td><td>0.6995</td><td>1.0</td><td>0.7262</td><td>0.4724</td><td>0.5103</td><td>0.5459</td><td>0.2881</td><td>0.0981</td><td>0.1951</td><td>0.4181</td><td>0.4604</td><td>0.3217</td><td>0.2828</td><td>0.243</td><td>0.1979</td><td>0.2444</td><td>0.1847</td><td>0.0841</td><td>0.0692</td><td>0.0528</td><td>0.0357</td><td>0.0085</td><td>0.023</td><td>0.0046</td><td>0.0156</td><td>0.0031</td><td>0.0054</td><td>0.0105</td><td>0.011</td><td>0.0015</td><td>0.0072</td><td>0.0048</td><td>0.0107</td><td>0.0094</td><td>R</td></tr></tbody></table>"
      ],
      "text/latex": [
       "\\begin{tabular}{r|ccccccccccccccccccccccccccccccccccccccccccccccccccccccccccccc}\n",
       "\t& Feature1 & Feature2 & Feature3 & Feature4 & Feature5 & Feature6 & Feature7 & Feature8 & Feature9 & Feature10 & Feature11 & Feature12 & Feature13 & Feature14 & Feature15 & Feature16 & Feature17 & Feature18 & Feature19 & Feature20 & Feature21 & Feature22 & Feature23 & Feature24 & Feature25 & Feature26 & Feature27 & Feature28 & Feature29 & Feature30 & Feature31 & Feature32 & Feature33 & Feature34 & Feature35 & Feature36 & Feature37 & Feature38 & Feature39 & Feature40 & Feature41 & Feature42 & Feature43 & Feature44 & Feature45 & Feature46 & Feature47 & Feature48 & Feature49 & Feature50 & Feature51 & Feature52 & Feature53 & Feature54 & Feature55 & Feature56 & Feature57 & Feature58 & Feature59 & Feature60 & Clase\\\\\n",
       "\t\\hline\n",
       "\t& Float64 & Float64 & Float64 & Float64 & Float64 & Float64 & Float64 & Float64 & Float64 & Float64 & Float64 & Float64 & Float64 & Float64 & Float64 & Float64 & Float64 & Float64 & Float64 & Float64 & Float64 & Float64 & Float64 & Float64 & Float64 & Float64 & Float64 & Float64 & Float64 & Float64 & Float64 & Float64 & Float64 & Float64 & Float64 & Float64 & Float64 & Float64 & Float64 & Float64 & Float64 & Float64 & Float64 & Float64 & Float64 & Float64 & Float64 & Float64 & Float64 & Float64 & Float64 & Float64 & Float64 & Float64 & Float64 & Float64 & Float64 & Float64 & Float64 & Float64 & String1\\\\\n",
       "\t\\hline\n",
       "\t1 & 0.02 & 0.0371 & 0.0428 & 0.0207 & 0.0954 & 0.0986 & 0.1539 & 0.1601 & 0.3109 & 0.2111 & 0.1609 & 0.1582 & 0.2238 & 0.0645 & 0.066 & 0.2273 & 0.31 & 0.2999 & 0.5078 & 0.4797 & 0.5783 & 0.5071 & 0.4328 & 0.555 & 0.6711 & 0.6415 & 0.7104 & 0.808 & 0.6791 & 0.3857 & 0.1307 & 0.2604 & 0.5121 & 0.7547 & 0.8537 & 0.8507 & 0.6692 & 0.6097 & 0.4943 & 0.2744 & 0.051 & 0.2834 & 0.2825 & 0.4256 & 0.2641 & 0.1386 & 0.1051 & 0.1343 & 0.0383 & 0.0324 & 0.0232 & 0.0027 & 0.0065 & 0.0159 & 0.0072 & 0.0167 & 0.018 & 0.0084 & 0.009 & 0.0032 & R \\\\\n",
       "\t2 & 0.0453 & 0.0523 & 0.0843 & 0.0689 & 0.1183 & 0.2583 & 0.2156 & 0.3481 & 0.3337 & 0.2872 & 0.4918 & 0.6552 & 0.6919 & 0.7797 & 0.7464 & 0.9444 & 1.0 & 0.8874 & 0.8024 & 0.7818 & 0.5212 & 0.4052 & 0.3957 & 0.3914 & 0.325 & 0.32 & 0.3271 & 0.2767 & 0.4423 & 0.2028 & 0.3788 & 0.2947 & 0.1984 & 0.2341 & 0.1306 & 0.4182 & 0.3835 & 0.1057 & 0.184 & 0.197 & 0.1674 & 0.0583 & 0.1401 & 0.1628 & 0.0621 & 0.0203 & 0.053 & 0.0742 & 0.0409 & 0.0061 & 0.0125 & 0.0084 & 0.0089 & 0.0048 & 0.0094 & 0.0191 & 0.014 & 0.0049 & 0.0052 & 0.0044 & R \\\\\n",
       "\t3 & 0.0262 & 0.0582 & 0.1099 & 0.1083 & 0.0974 & 0.228 & 0.2431 & 0.3771 & 0.5598 & 0.6194 & 0.6333 & 0.706 & 0.5544 & 0.532 & 0.6479 & 0.6931 & 0.6759 & 0.7551 & 0.8929 & 0.8619 & 0.7974 & 0.6737 & 0.4293 & 0.3648 & 0.5331 & 0.2413 & 0.507 & 0.8533 & 0.6036 & 0.8514 & 0.8512 & 0.5045 & 0.1862 & 0.2709 & 0.4232 & 0.3043 & 0.6116 & 0.6756 & 0.5375 & 0.4719 & 0.4647 & 0.2587 & 0.2129 & 0.2222 & 0.2111 & 0.0176 & 0.1348 & 0.0744 & 0.013 & 0.0106 & 0.0033 & 0.0232 & 0.0166 & 0.0095 & 0.018 & 0.0244 & 0.0316 & 0.0164 & 0.0095 & 0.0078 & R \\\\\n",
       "\t4 & 0.01 & 0.0171 & 0.0623 & 0.0205 & 0.0205 & 0.0368 & 0.1098 & 0.1276 & 0.0598 & 0.1264 & 0.0881 & 0.1992 & 0.0184 & 0.2261 & 0.1729 & 0.2131 & 0.0693 & 0.2281 & 0.406 & 0.3973 & 0.2741 & 0.369 & 0.5556 & 0.4846 & 0.314 & 0.5334 & 0.5256 & 0.252 & 0.209 & 0.3559 & 0.626 & 0.734 & 0.612 & 0.3497 & 0.3953 & 0.3012 & 0.5408 & 0.8814 & 0.9857 & 0.9167 & 0.6121 & 0.5006 & 0.321 & 0.3202 & 0.4295 & 0.3654 & 0.2655 & 0.1576 & 0.0681 & 0.0294 & 0.0241 & 0.0121 & 0.0036 & 0.015 & 0.0085 & 0.0073 & 0.005 & 0.0044 & 0.004 & 0.0117 & R \\\\\n",
       "\t5 & 0.0762 & 0.0666 & 0.0481 & 0.0394 & 0.059 & 0.0649 & 0.1209 & 0.2467 & 0.3564 & 0.4459 & 0.4152 & 0.3952 & 0.4256 & 0.4135 & 0.4528 & 0.5326 & 0.7306 & 0.6193 & 0.2032 & 0.4636 & 0.4148 & 0.4292 & 0.573 & 0.5399 & 0.3161 & 0.2285 & 0.6995 & 1.0 & 0.7262 & 0.4724 & 0.5103 & 0.5459 & 0.2881 & 0.0981 & 0.1951 & 0.4181 & 0.4604 & 0.3217 & 0.2828 & 0.243 & 0.1979 & 0.2444 & 0.1847 & 0.0841 & 0.0692 & 0.0528 & 0.0357 & 0.0085 & 0.023 & 0.0046 & 0.0156 & 0.0031 & 0.0054 & 0.0105 & 0.011 & 0.0015 & 0.0072 & 0.0048 & 0.0107 & 0.0094 & R \\\\\n",
       "\\end{tabular}\n"
      ],
      "text/plain": [
       "5×61 typename(DataFrame)\n",
       "│ Row │ Feature1 │ Feature2 │ Feature3 │ Feature4 │ Feature5 │ Feature6 │ Feature7 │ Feature8 │ Feature9 │ Feature10 │ Feature11 │ Feature12 │ Feature13 │ Feature14 │ Feature15 │ Feature16 │ Feature17 │ Feature18 │ Feature19 │ Feature20 │ Feature21 │ Feature22 │ Feature23 │ Feature24 │ Feature25 │ Feature26 │ Feature27 │ Feature28 │ Feature29 │ Feature30 │ Feature31 │ Feature32 │ Feature33 │ Feature34 │ Feature35 │ Feature36 │ Feature37 │ Feature38 │ Feature39 │ Feature40 │ Feature41 │ Feature42 │ Feature43 │ Feature44 │ Feature45 │ Feature46 │ Feature47 │ Feature48 │ Feature49 │ Feature50 │ Feature51 │ Feature52 │ Feature53 │ Feature54 │ Feature55 │ Feature56 │ Feature57 │ Feature58 │ Feature59 │ Feature60 │ Clase   │\n",
       "│     │ \u001b[90mFloat64\u001b[39m  │ \u001b[90mFloat64\u001b[39m  │ \u001b[90mFloat64\u001b[39m  │ \u001b[90mFloat64\u001b[39m  │ \u001b[90mFloat64\u001b[39m  │ \u001b[90mFloat64\u001b[39m  │ \u001b[90mFloat64\u001b[39m  │ \u001b[90mFloat64\u001b[39m  │ \u001b[90mFloat64\u001b[39m  │ \u001b[90mFloat64\u001b[39m   │ \u001b[90mFloat64\u001b[39m   │ \u001b[90mFloat64\u001b[39m   │ \u001b[90mFloat64\u001b[39m   │ \u001b[90mFloat64\u001b[39m   │ \u001b[90mFloat64\u001b[39m   │ \u001b[90mFloat64\u001b[39m   │ \u001b[90mFloat64\u001b[39m   │ \u001b[90mFloat64\u001b[39m   │ \u001b[90mFloat64\u001b[39m   │ \u001b[90mFloat64\u001b[39m   │ \u001b[90mFloat64\u001b[39m   │ \u001b[90mFloat64\u001b[39m   │ \u001b[90mFloat64\u001b[39m   │ \u001b[90mFloat64\u001b[39m   │ \u001b[90mFloat64\u001b[39m   │ \u001b[90mFloat64\u001b[39m   │ \u001b[90mFloat64\u001b[39m   │ \u001b[90mFloat64\u001b[39m   │ \u001b[90mFloat64\u001b[39m   │ \u001b[90mFloat64\u001b[39m   │ \u001b[90mFloat64\u001b[39m   │ \u001b[90mFloat64\u001b[39m   │ \u001b[90mFloat64\u001b[39m   │ \u001b[90mFloat64\u001b[39m   │ \u001b[90mFloat64\u001b[39m   │ \u001b[90mFloat64\u001b[39m   │ \u001b[90mFloat64\u001b[39m   │ \u001b[90mFloat64\u001b[39m   │ \u001b[90mFloat64\u001b[39m   │ \u001b[90mFloat64\u001b[39m   │ \u001b[90mFloat64\u001b[39m   │ \u001b[90mFloat64\u001b[39m   │ \u001b[90mFloat64\u001b[39m   │ \u001b[90mFloat64\u001b[39m   │ \u001b[90mFloat64\u001b[39m   │ \u001b[90mFloat64\u001b[39m   │ \u001b[90mFloat64\u001b[39m   │ \u001b[90mFloat64\u001b[39m   │ \u001b[90mFloat64\u001b[39m   │ \u001b[90mFloat64\u001b[39m   │ \u001b[90mFloat64\u001b[39m   │ \u001b[90mFloat64\u001b[39m   │ \u001b[90mFloat64\u001b[39m   │ \u001b[90mFloat64\u001b[39m   │ \u001b[90mFloat64\u001b[39m   │ \u001b[90mFloat64\u001b[39m   │ \u001b[90mFloat64\u001b[39m   │ \u001b[90mFloat64\u001b[39m   │ \u001b[90mFloat64\u001b[39m   │ \u001b[90mFloat64\u001b[39m   │ \u001b[90mString1\u001b[39m │\n",
       "├─────┼──────────┼──────────┼──────────┼──────────┼──────────┼──────────┼──────────┼──────────┼──────────┼───────────┼───────────┼───────────┼───────────┼───────────┼───────────┼───────────┼───────────┼───────────┼───────────┼───────────┼───────────┼───────────┼───────────┼───────────┼───────────┼───────────┼───────────┼───────────┼───────────┼───────────┼───────────┼───────────┼───────────┼───────────┼───────────┼───────────┼───────────┼───────────┼───────────┼───────────┼───────────┼───────────┼───────────┼───────────┼───────────┼───────────┼───────────┼───────────┼───────────┼───────────┼───────────┼───────────┼───────────┼───────────┼───────────┼───────────┼───────────┼───────────┼───────────┼───────────┼─────────┤\n",
       "│ 1   │ 0.02     │ 0.0371   │ 0.0428   │ 0.0207   │ 0.0954   │ 0.0986   │ 0.1539   │ 0.1601   │ 0.3109   │ 0.2111    │ 0.1609    │ 0.1582    │ 0.2238    │ 0.0645    │ 0.066     │ 0.2273    │ 0.31      │ 0.2999    │ 0.5078    │ 0.4797    │ 0.5783    │ 0.5071    │ 0.4328    │ 0.555     │ 0.6711    │ 0.6415    │ 0.7104    │ 0.808     │ 0.6791    │ 0.3857    │ 0.1307    │ 0.2604    │ 0.5121    │ 0.7547    │ 0.8537    │ 0.8507    │ 0.6692    │ 0.6097    │ 0.4943    │ 0.2744    │ 0.051     │ 0.2834    │ 0.2825    │ 0.4256    │ 0.2641    │ 0.1386    │ 0.1051    │ 0.1343    │ 0.0383    │ 0.0324    │ 0.0232    │ 0.0027    │ 0.0065    │ 0.0159    │ 0.0072    │ 0.0167    │ 0.018     │ 0.0084    │ 0.009     │ 0.0032    │ R       │\n",
       "│ 2   │ 0.0453   │ 0.0523   │ 0.0843   │ 0.0689   │ 0.1183   │ 0.2583   │ 0.2156   │ 0.3481   │ 0.3337   │ 0.2872    │ 0.4918    │ 0.6552    │ 0.6919    │ 0.7797    │ 0.7464    │ 0.9444    │ 1.0       │ 0.8874    │ 0.8024    │ 0.7818    │ 0.5212    │ 0.4052    │ 0.3957    │ 0.3914    │ 0.325     │ 0.32      │ 0.3271    │ 0.2767    │ 0.4423    │ 0.2028    │ 0.3788    │ 0.2947    │ 0.1984    │ 0.2341    │ 0.1306    │ 0.4182    │ 0.3835    │ 0.1057    │ 0.184     │ 0.197     │ 0.1674    │ 0.0583    │ 0.1401    │ 0.1628    │ 0.0621    │ 0.0203    │ 0.053     │ 0.0742    │ 0.0409    │ 0.0061    │ 0.0125    │ 0.0084    │ 0.0089    │ 0.0048    │ 0.0094    │ 0.0191    │ 0.014     │ 0.0049    │ 0.0052    │ 0.0044    │ R       │\n",
       "│ 3   │ 0.0262   │ 0.0582   │ 0.1099   │ 0.1083   │ 0.0974   │ 0.228    │ 0.2431   │ 0.3771   │ 0.5598   │ 0.6194    │ 0.6333    │ 0.706     │ 0.5544    │ 0.532     │ 0.6479    │ 0.6931    │ 0.6759    │ 0.7551    │ 0.8929    │ 0.8619    │ 0.7974    │ 0.6737    │ 0.4293    │ 0.3648    │ 0.5331    │ 0.2413    │ 0.507     │ 0.8533    │ 0.6036    │ 0.8514    │ 0.8512    │ 0.5045    │ 0.1862    │ 0.2709    │ 0.4232    │ 0.3043    │ 0.6116    │ 0.6756    │ 0.5375    │ 0.4719    │ 0.4647    │ 0.2587    │ 0.2129    │ 0.2222    │ 0.2111    │ 0.0176    │ 0.1348    │ 0.0744    │ 0.013     │ 0.0106    │ 0.0033    │ 0.0232    │ 0.0166    │ 0.0095    │ 0.018     │ 0.0244    │ 0.0316    │ 0.0164    │ 0.0095    │ 0.0078    │ R       │\n",
       "│ 4   │ 0.01     │ 0.0171   │ 0.0623   │ 0.0205   │ 0.0205   │ 0.0368   │ 0.1098   │ 0.1276   │ 0.0598   │ 0.1264    │ 0.0881    │ 0.1992    │ 0.0184    │ 0.2261    │ 0.1729    │ 0.2131    │ 0.0693    │ 0.2281    │ 0.406     │ 0.3973    │ 0.2741    │ 0.369     │ 0.5556    │ 0.4846    │ 0.314     │ 0.5334    │ 0.5256    │ 0.252     │ 0.209     │ 0.3559    │ 0.626     │ 0.734     │ 0.612     │ 0.3497    │ 0.3953    │ 0.3012    │ 0.5408    │ 0.8814    │ 0.9857    │ 0.9167    │ 0.6121    │ 0.5006    │ 0.321     │ 0.3202    │ 0.4295    │ 0.3654    │ 0.2655    │ 0.1576    │ 0.0681    │ 0.0294    │ 0.0241    │ 0.0121    │ 0.0036    │ 0.015     │ 0.0085    │ 0.0073    │ 0.005     │ 0.0044    │ 0.004     │ 0.0117    │ R       │\n",
       "│ 5   │ 0.0762   │ 0.0666   │ 0.0481   │ 0.0394   │ 0.059    │ 0.0649   │ 0.1209   │ 0.2467   │ 0.3564   │ 0.4459    │ 0.4152    │ 0.3952    │ 0.4256    │ 0.4135    │ 0.4528    │ 0.5326    │ 0.7306    │ 0.6193    │ 0.2032    │ 0.4636    │ 0.4148    │ 0.4292    │ 0.573     │ 0.5399    │ 0.3161    │ 0.2285    │ 0.6995    │ 1.0       │ 0.7262    │ 0.4724    │ 0.5103    │ 0.5459    │ 0.2881    │ 0.0981    │ 0.1951    │ 0.4181    │ 0.4604    │ 0.3217    │ 0.2828    │ 0.243     │ 0.1979    │ 0.2444    │ 0.1847    │ 0.0841    │ 0.0692    │ 0.0528    │ 0.0357    │ 0.0085    │ 0.023     │ 0.0046    │ 0.0156    │ 0.0031    │ 0.0054    │ 0.0105    │ 0.011     │ 0.0015    │ 0.0072    │ 0.0048    │ 0.0107    │ 0.0094    │ R       │"
      ]
     },
     "execution_count": 163,
     "metadata": {},
     "output_type": "execute_result"
    }
   ],
   "source": [
    "## Load the data \n",
    "# Read the file using CSV.File and convert it to DataFrame\n",
    "df = DataFrame(CSV.File(\"/Users/sebastianoviedo/Desktop/UN 2022/Matemáticas de los algoritmos/input/sonar.all-data.csv\"\n",
    ", header=1))\n",
    "first(df,5)"
   ]
  },
  {
   "cell_type": "code",
   "execution_count": 164,
   "metadata": {},
   "outputs": [
    {
     "data": {
      "text/plain": [
       "(208, 61)"
      ]
     },
     "execution_count": 164,
     "metadata": {},
     "output_type": "execute_result"
    }
   ],
   "source": [
    "size(df)"
   ]
  },
  {
   "cell_type": "markdown",
   "metadata": {},
   "source": [
    "###### Aqui vemos que la clase \"R\" tiene menor frecuencia por lo tanto, para generalizar los resultados sobre el conjunto de  debemos balancear las clases, para esto podemos usar oversampling osubsampling, otra opción es crear una variable que se llamme weight de tal manera que la clase con menor frecuencia tenga un peso más alto."
   ]
  },
  {
   "cell_type": "code",
   "execution_count": 165,
   "metadata": {},
   "outputs": [
    {
     "data": {
      "text/plain": [
       "Dict{String1, Int64} with 2 entries:\n",
       "  \"M\" => 111\n",
       "  \"R\" => 97"
      ]
     },
     "execution_count": 165,
     "metadata": {},
     "output_type": "execute_result"
    }
   ],
   "source": [
    "## Conteo de clase\n",
    "countmap(df.Clase)"
   ]
  },
  {
   "cell_type": "code",
   "execution_count": 166,
   "metadata": {},
   "outputs": [
    {
     "data": {
      "text/html": [
       "<table class=\"data-frame\"><thead><tr><th></th><th>Feature1</th><th>Feature2</th><th>Feature3</th><th>Feature4</th><th>Feature5</th><th>Feature6</th><th>Feature7</th><th>Feature8</th><th>Feature9</th><th>Feature10</th><th>Feature11</th><th>Feature12</th><th>Feature13</th><th>Feature14</th><th>Feature15</th><th>Feature16</th><th>Feature17</th><th>Feature18</th><th>Feature19</th><th>Feature20</th><th>Feature21</th><th>Feature22</th><th>Feature23</th><th>Feature24</th><th>Feature25</th><th>Feature26</th><th>Feature27</th><th>Feature28</th><th>Feature29</th><th>Feature30</th><th>Feature31</th><th>Feature32</th><th>Feature33</th><th>Feature34</th><th>Feature35</th><th>Feature36</th><th>Feature37</th><th>Feature38</th><th>Feature39</th><th>Feature40</th><th>Feature41</th><th>Feature42</th><th>Feature43</th><th>Feature44</th><th>Feature45</th><th>Feature46</th><th>Feature47</th><th>Feature48</th><th>Feature49</th><th>Feature50</th><th>Feature51</th><th>Feature52</th><th>Feature53</th><th>Feature54</th><th>Feature55</th><th>Feature56</th><th>Feature57</th><th>Feature58</th><th>Feature59</th><th>Feature60</th><th>Clase_rc</th></tr><tr><th></th><th>Float64</th><th>Float64</th><th>Float64</th><th>Float64</th><th>Float64</th><th>Float64</th><th>Float64</th><th>Float64</th><th>Float64</th><th>Float64</th><th>Float64</th><th>Float64</th><th>Float64</th><th>Float64</th><th>Float64</th><th>Float64</th><th>Float64</th><th>Float64</th><th>Float64</th><th>Float64</th><th>Float64</th><th>Float64</th><th>Float64</th><th>Float64</th><th>Float64</th><th>Float64</th><th>Float64</th><th>Float64</th><th>Float64</th><th>Float64</th><th>Float64</th><th>Float64</th><th>Float64</th><th>Float64</th><th>Float64</th><th>Float64</th><th>Float64</th><th>Float64</th><th>Float64</th><th>Float64</th><th>Float64</th><th>Float64</th><th>Float64</th><th>Float64</th><th>Float64</th><th>Float64</th><th>Float64</th><th>Float64</th><th>Float64</th><th>Float64</th><th>Float64</th><th>Float64</th><th>Float64</th><th>Float64</th><th>Float64</th><th>Float64</th><th>Float64</th><th>Float64</th><th>Float64</th><th>Float64</th><th>Int64</th></tr></thead><tbody><p>208 rows × 61 columns</p><tr><th>1</th><td>0.02</td><td>0.0371</td><td>0.0428</td><td>0.0207</td><td>0.0954</td><td>0.0986</td><td>0.1539</td><td>0.1601</td><td>0.3109</td><td>0.2111</td><td>0.1609</td><td>0.1582</td><td>0.2238</td><td>0.0645</td><td>0.066</td><td>0.2273</td><td>0.31</td><td>0.2999</td><td>0.5078</td><td>0.4797</td><td>0.5783</td><td>0.5071</td><td>0.4328</td><td>0.555</td><td>0.6711</td><td>0.6415</td><td>0.7104</td><td>0.808</td><td>0.6791</td><td>0.3857</td><td>0.1307</td><td>0.2604</td><td>0.5121</td><td>0.7547</td><td>0.8537</td><td>0.8507</td><td>0.6692</td><td>0.6097</td><td>0.4943</td><td>0.2744</td><td>0.051</td><td>0.2834</td><td>0.2825</td><td>0.4256</td><td>0.2641</td><td>0.1386</td><td>0.1051</td><td>0.1343</td><td>0.0383</td><td>0.0324</td><td>0.0232</td><td>0.0027</td><td>0.0065</td><td>0.0159</td><td>0.0072</td><td>0.0167</td><td>0.018</td><td>0.0084</td><td>0.009</td><td>0.0032</td><td>0</td></tr><tr><th>2</th><td>0.0453</td><td>0.0523</td><td>0.0843</td><td>0.0689</td><td>0.1183</td><td>0.2583</td><td>0.2156</td><td>0.3481</td><td>0.3337</td><td>0.2872</td><td>0.4918</td><td>0.6552</td><td>0.6919</td><td>0.7797</td><td>0.7464</td><td>0.9444</td><td>1.0</td><td>0.8874</td><td>0.8024</td><td>0.7818</td><td>0.5212</td><td>0.4052</td><td>0.3957</td><td>0.3914</td><td>0.325</td><td>0.32</td><td>0.3271</td><td>0.2767</td><td>0.4423</td><td>0.2028</td><td>0.3788</td><td>0.2947</td><td>0.1984</td><td>0.2341</td><td>0.1306</td><td>0.4182</td><td>0.3835</td><td>0.1057</td><td>0.184</td><td>0.197</td><td>0.1674</td><td>0.0583</td><td>0.1401</td><td>0.1628</td><td>0.0621</td><td>0.0203</td><td>0.053</td><td>0.0742</td><td>0.0409</td><td>0.0061</td><td>0.0125</td><td>0.0084</td><td>0.0089</td><td>0.0048</td><td>0.0094</td><td>0.0191</td><td>0.014</td><td>0.0049</td><td>0.0052</td><td>0.0044</td><td>0</td></tr><tr><th>3</th><td>0.0262</td><td>0.0582</td><td>0.1099</td><td>0.1083</td><td>0.0974</td><td>0.228</td><td>0.2431</td><td>0.3771</td><td>0.5598</td><td>0.6194</td><td>0.6333</td><td>0.706</td><td>0.5544</td><td>0.532</td><td>0.6479</td><td>0.6931</td><td>0.6759</td><td>0.7551</td><td>0.8929</td><td>0.8619</td><td>0.7974</td><td>0.6737</td><td>0.4293</td><td>0.3648</td><td>0.5331</td><td>0.2413</td><td>0.507</td><td>0.8533</td><td>0.6036</td><td>0.8514</td><td>0.8512</td><td>0.5045</td><td>0.1862</td><td>0.2709</td><td>0.4232</td><td>0.3043</td><td>0.6116</td><td>0.6756</td><td>0.5375</td><td>0.4719</td><td>0.4647</td><td>0.2587</td><td>0.2129</td><td>0.2222</td><td>0.2111</td><td>0.0176</td><td>0.1348</td><td>0.0744</td><td>0.013</td><td>0.0106</td><td>0.0033</td><td>0.0232</td><td>0.0166</td><td>0.0095</td><td>0.018</td><td>0.0244</td><td>0.0316</td><td>0.0164</td><td>0.0095</td><td>0.0078</td><td>0</td></tr><tr><th>4</th><td>0.01</td><td>0.0171</td><td>0.0623</td><td>0.0205</td><td>0.0205</td><td>0.0368</td><td>0.1098</td><td>0.1276</td><td>0.0598</td><td>0.1264</td><td>0.0881</td><td>0.1992</td><td>0.0184</td><td>0.2261</td><td>0.1729</td><td>0.2131</td><td>0.0693</td><td>0.2281</td><td>0.406</td><td>0.3973</td><td>0.2741</td><td>0.369</td><td>0.5556</td><td>0.4846</td><td>0.314</td><td>0.5334</td><td>0.5256</td><td>0.252</td><td>0.209</td><td>0.3559</td><td>0.626</td><td>0.734</td><td>0.612</td><td>0.3497</td><td>0.3953</td><td>0.3012</td><td>0.5408</td><td>0.8814</td><td>0.9857</td><td>0.9167</td><td>0.6121</td><td>0.5006</td><td>0.321</td><td>0.3202</td><td>0.4295</td><td>0.3654</td><td>0.2655</td><td>0.1576</td><td>0.0681</td><td>0.0294</td><td>0.0241</td><td>0.0121</td><td>0.0036</td><td>0.015</td><td>0.0085</td><td>0.0073</td><td>0.005</td><td>0.0044</td><td>0.004</td><td>0.0117</td><td>0</td></tr><tr><th>5</th><td>0.0762</td><td>0.0666</td><td>0.0481</td><td>0.0394</td><td>0.059</td><td>0.0649</td><td>0.1209</td><td>0.2467</td><td>0.3564</td><td>0.4459</td><td>0.4152</td><td>0.3952</td><td>0.4256</td><td>0.4135</td><td>0.4528</td><td>0.5326</td><td>0.7306</td><td>0.6193</td><td>0.2032</td><td>0.4636</td><td>0.4148</td><td>0.4292</td><td>0.573</td><td>0.5399</td><td>0.3161</td><td>0.2285</td><td>0.6995</td><td>1.0</td><td>0.7262</td><td>0.4724</td><td>0.5103</td><td>0.5459</td><td>0.2881</td><td>0.0981</td><td>0.1951</td><td>0.4181</td><td>0.4604</td><td>0.3217</td><td>0.2828</td><td>0.243</td><td>0.1979</td><td>0.2444</td><td>0.1847</td><td>0.0841</td><td>0.0692</td><td>0.0528</td><td>0.0357</td><td>0.0085</td><td>0.023</td><td>0.0046</td><td>0.0156</td><td>0.0031</td><td>0.0054</td><td>0.0105</td><td>0.011</td><td>0.0015</td><td>0.0072</td><td>0.0048</td><td>0.0107</td><td>0.0094</td><td>0</td></tr><tr><th>6</th><td>0.0286</td><td>0.0453</td><td>0.0277</td><td>0.0174</td><td>0.0384</td><td>0.099</td><td>0.1201</td><td>0.1833</td><td>0.2105</td><td>0.3039</td><td>0.2988</td><td>0.425</td><td>0.6343</td><td>0.8198</td><td>1.0</td><td>0.9988</td><td>0.9508</td><td>0.9025</td><td>0.7234</td><td>0.5122</td><td>0.2074</td><td>0.3985</td><td>0.589</td><td>0.2872</td><td>0.2043</td><td>0.5782</td><td>0.5389</td><td>0.375</td><td>0.3411</td><td>0.5067</td><td>0.558</td><td>0.4778</td><td>0.3299</td><td>0.2198</td><td>0.1407</td><td>0.2856</td><td>0.3807</td><td>0.4158</td><td>0.4054</td><td>0.3296</td><td>0.2707</td><td>0.265</td><td>0.0723</td><td>0.1238</td><td>0.1192</td><td>0.1089</td><td>0.0623</td><td>0.0494</td><td>0.0264</td><td>0.0081</td><td>0.0104</td><td>0.0045</td><td>0.0014</td><td>0.0038</td><td>0.0013</td><td>0.0089</td><td>0.0057</td><td>0.0027</td><td>0.0051</td><td>0.0062</td><td>0</td></tr><tr><th>7</th><td>0.0317</td><td>0.0956</td><td>0.1321</td><td>0.1408</td><td>0.1674</td><td>0.171</td><td>0.0731</td><td>0.1401</td><td>0.2083</td><td>0.3513</td><td>0.1786</td><td>0.0658</td><td>0.0513</td><td>0.3752</td><td>0.5419</td><td>0.544</td><td>0.515</td><td>0.4262</td><td>0.2024</td><td>0.4233</td><td>0.7723</td><td>0.9735</td><td>0.939</td><td>0.5559</td><td>0.5268</td><td>0.6826</td><td>0.5713</td><td>0.5429</td><td>0.2177</td><td>0.2149</td><td>0.5811</td><td>0.6323</td><td>0.2965</td><td>0.1873</td><td>0.2969</td><td>0.5163</td><td>0.6153</td><td>0.4283</td><td>0.5479</td><td>0.6133</td><td>0.5017</td><td>0.2377</td><td>0.1957</td><td>0.1749</td><td>0.1304</td><td>0.0597</td><td>0.1124</td><td>0.1047</td><td>0.0507</td><td>0.0159</td><td>0.0195</td><td>0.0201</td><td>0.0248</td><td>0.0131</td><td>0.007</td><td>0.0138</td><td>0.0092</td><td>0.0143</td><td>0.0036</td><td>0.0103</td><td>0</td></tr><tr><th>8</th><td>0.0519</td><td>0.0548</td><td>0.0842</td><td>0.0319</td><td>0.1158</td><td>0.0922</td><td>0.1027</td><td>0.0613</td><td>0.1465</td><td>0.2838</td><td>0.2802</td><td>0.3086</td><td>0.2657</td><td>0.3801</td><td>0.5626</td><td>0.4376</td><td>0.2617</td><td>0.1199</td><td>0.6676</td><td>0.9402</td><td>0.7832</td><td>0.5352</td><td>0.6809</td><td>0.9174</td><td>0.7613</td><td>0.822</td><td>0.8872</td><td>0.6091</td><td>0.2967</td><td>0.1103</td><td>0.1318</td><td>0.0624</td><td>0.099</td><td>0.4006</td><td>0.3666</td><td>0.105</td><td>0.1915</td><td>0.393</td><td>0.4288</td><td>0.2546</td><td>0.1151</td><td>0.2196</td><td>0.1879</td><td>0.1437</td><td>0.2146</td><td>0.236</td><td>0.1125</td><td>0.0254</td><td>0.0285</td><td>0.0178</td><td>0.0052</td><td>0.0081</td><td>0.012</td><td>0.0045</td><td>0.0121</td><td>0.0097</td><td>0.0085</td><td>0.0047</td><td>0.0048</td><td>0.0053</td><td>0</td></tr><tr><th>9</th><td>0.0223</td><td>0.0375</td><td>0.0484</td><td>0.0475</td><td>0.0647</td><td>0.0591</td><td>0.0753</td><td>0.0098</td><td>0.0684</td><td>0.1487</td><td>0.1156</td><td>0.1654</td><td>0.3833</td><td>0.3598</td><td>0.1713</td><td>0.1136</td><td>0.0349</td><td>0.3796</td><td>0.7401</td><td>0.9925</td><td>0.9802</td><td>0.889</td><td>0.6712</td><td>0.4286</td><td>0.3374</td><td>0.7366</td><td>0.9611</td><td>0.7353</td><td>0.4856</td><td>0.1594</td><td>0.3007</td><td>0.4096</td><td>0.317</td><td>0.3305</td><td>0.3408</td><td>0.2186</td><td>0.2463</td><td>0.2726</td><td>0.168</td><td>0.2792</td><td>0.2558</td><td>0.174</td><td>0.2121</td><td>0.1099</td><td>0.0985</td><td>0.1271</td><td>0.1459</td><td>0.1164</td><td>0.0777</td><td>0.0439</td><td>0.0061</td><td>0.0145</td><td>0.0128</td><td>0.0145</td><td>0.0058</td><td>0.0049</td><td>0.0065</td><td>0.0093</td><td>0.0059</td><td>0.0022</td><td>0</td></tr><tr><th>10</th><td>0.0164</td><td>0.0173</td><td>0.0347</td><td>0.007</td><td>0.0187</td><td>0.0671</td><td>0.1056</td><td>0.0697</td><td>0.0962</td><td>0.0251</td><td>0.0801</td><td>0.1056</td><td>0.1266</td><td>0.089</td><td>0.0198</td><td>0.1133</td><td>0.2826</td><td>0.3234</td><td>0.3238</td><td>0.4333</td><td>0.6068</td><td>0.7652</td><td>0.9203</td><td>0.9719</td><td>0.9207</td><td>0.7545</td><td>0.8289</td><td>0.8907</td><td>0.7309</td><td>0.6896</td><td>0.5829</td><td>0.4935</td><td>0.3101</td><td>0.0306</td><td>0.0244</td><td>0.1108</td><td>0.1594</td><td>0.1371</td><td>0.0696</td><td>0.0452</td><td>0.062</td><td>0.1421</td><td>0.1597</td><td>0.1384</td><td>0.0372</td><td>0.0688</td><td>0.0867</td><td>0.0513</td><td>0.0092</td><td>0.0198</td><td>0.0118</td><td>0.009</td><td>0.0223</td><td>0.0179</td><td>0.0084</td><td>0.0068</td><td>0.0032</td><td>0.0035</td><td>0.0056</td><td>0.004</td><td>0</td></tr><tr><th>11</th><td>0.0039</td><td>0.0063</td><td>0.0152</td><td>0.0336</td><td>0.031</td><td>0.0284</td><td>0.0396</td><td>0.0272</td><td>0.0323</td><td>0.0452</td><td>0.0492</td><td>0.0996</td><td>0.1424</td><td>0.1194</td><td>0.0628</td><td>0.0907</td><td>0.1177</td><td>0.1429</td><td>0.1223</td><td>0.1104</td><td>0.1847</td><td>0.3715</td><td>0.4382</td><td>0.5707</td><td>0.6654</td><td>0.7476</td><td>0.7654</td><td>0.8555</td><td>0.972</td><td>0.9221</td><td>0.7502</td><td>0.7209</td><td>0.7757</td><td>0.6055</td><td>0.5021</td><td>0.4499</td><td>0.3947</td><td>0.4281</td><td>0.4427</td><td>0.3749</td><td>0.1972</td><td>0.0511</td><td>0.0793</td><td>0.1269</td><td>0.1533</td><td>0.069</td><td>0.0402</td><td>0.0534</td><td>0.0228</td><td>0.0073</td><td>0.0062</td><td>0.0062</td><td>0.012</td><td>0.0052</td><td>0.0056</td><td>0.0093</td><td>0.0042</td><td>0.0003</td><td>0.0053</td><td>0.0036</td><td>0</td></tr><tr><th>12</th><td>0.0123</td><td>0.0309</td><td>0.0169</td><td>0.0313</td><td>0.0358</td><td>0.0102</td><td>0.0182</td><td>0.0579</td><td>0.1122</td><td>0.0835</td><td>0.0548</td><td>0.0847</td><td>0.2026</td><td>0.2557</td><td>0.187</td><td>0.2032</td><td>0.1463</td><td>0.2849</td><td>0.5824</td><td>0.7728</td><td>0.7852</td><td>0.8515</td><td>0.5312</td><td>0.3653</td><td>0.5973</td><td>0.8275</td><td>1.0</td><td>0.8673</td><td>0.6301</td><td>0.4591</td><td>0.394</td><td>0.2576</td><td>0.2817</td><td>0.2641</td><td>0.2757</td><td>0.2698</td><td>0.3994</td><td>0.4576</td><td>0.394</td><td>0.2522</td><td>0.1782</td><td>0.1354</td><td>0.0516</td><td>0.0337</td><td>0.0894</td><td>0.0861</td><td>0.0872</td><td>0.0445</td><td>0.0134</td><td>0.0217</td><td>0.0188</td><td>0.0133</td><td>0.0265</td><td>0.0224</td><td>0.0074</td><td>0.0118</td><td>0.0026</td><td>0.0092</td><td>0.0009</td><td>0.0044</td><td>0</td></tr><tr><th>13</th><td>0.0079</td><td>0.0086</td><td>0.0055</td><td>0.025</td><td>0.0344</td><td>0.0546</td><td>0.0528</td><td>0.0958</td><td>0.1009</td><td>0.124</td><td>0.1097</td><td>0.1215</td><td>0.1874</td><td>0.3383</td><td>0.3227</td><td>0.2723</td><td>0.3943</td><td>0.6432</td><td>0.7271</td><td>0.8673</td><td>0.9674</td><td>0.9847</td><td>0.948</td><td>0.8036</td><td>0.6833</td><td>0.5136</td><td>0.309</td><td>0.0832</td><td>0.4019</td><td>0.2344</td><td>0.1905</td><td>0.1235</td><td>0.1717</td><td>0.2351</td><td>0.2489</td><td>0.3649</td><td>0.3382</td><td>0.1589</td><td>0.0989</td><td>0.1089</td><td>0.1043</td><td>0.0839</td><td>0.1391</td><td>0.0819</td><td>0.0678</td><td>0.0663</td><td>0.1202</td><td>0.0692</td><td>0.0152</td><td>0.0266</td><td>0.0174</td><td>0.0176</td><td>0.0127</td><td>0.0088</td><td>0.0098</td><td>0.0019</td><td>0.0059</td><td>0.0058</td><td>0.0059</td><td>0.0032</td><td>0</td></tr><tr><th>14</th><td>0.009</td><td>0.0062</td><td>0.0253</td><td>0.0489</td><td>0.1197</td><td>0.1589</td><td>0.1392</td><td>0.0987</td><td>0.0955</td><td>0.1895</td><td>0.1896</td><td>0.2547</td><td>0.4073</td><td>0.2988</td><td>0.2901</td><td>0.5326</td><td>0.4022</td><td>0.1571</td><td>0.3024</td><td>0.3907</td><td>0.3542</td><td>0.4438</td><td>0.6414</td><td>0.4601</td><td>0.6009</td><td>0.869</td><td>0.8345</td><td>0.7669</td><td>0.5081</td><td>0.462</td><td>0.538</td><td>0.5375</td><td>0.3844</td><td>0.3601</td><td>0.7402</td><td>0.7761</td><td>0.3858</td><td>0.0667</td><td>0.3684</td><td>0.6114</td><td>0.351</td><td>0.2312</td><td>0.2195</td><td>0.3051</td><td>0.1937</td><td>0.157</td><td>0.0479</td><td>0.0538</td><td>0.0146</td><td>0.0068</td><td>0.0187</td><td>0.0059</td><td>0.0095</td><td>0.0194</td><td>0.008</td><td>0.0152</td><td>0.0158</td><td>0.0053</td><td>0.0189</td><td>0.0102</td><td>0</td></tr><tr><th>15</th><td>0.0124</td><td>0.0433</td><td>0.0604</td><td>0.0449</td><td>0.0597</td><td>0.0355</td><td>0.0531</td><td>0.0343</td><td>0.1052</td><td>0.212</td><td>0.164</td><td>0.1901</td><td>0.3026</td><td>0.2019</td><td>0.0592</td><td>0.239</td><td>0.3657</td><td>0.3809</td><td>0.5929</td><td>0.6299</td><td>0.5801</td><td>0.4574</td><td>0.4449</td><td>0.3691</td><td>0.6446</td><td>0.894</td><td>0.8978</td><td>0.498</td><td>0.3333</td><td>0.235</td><td>0.1553</td><td>0.3666</td><td>0.434</td><td>0.3082</td><td>0.3024</td><td>0.4109</td><td>0.5501</td><td>0.4129</td><td>0.5499</td><td>0.5018</td><td>0.3132</td><td>0.2802</td><td>0.2351</td><td>0.2298</td><td>0.1155</td><td>0.0724</td><td>0.0621</td><td>0.0318</td><td>0.045</td><td>0.0167</td><td>0.0078</td><td>0.0083</td><td>0.0057</td><td>0.0174</td><td>0.0188</td><td>0.0054</td><td>0.0114</td><td>0.0196</td><td>0.0147</td><td>0.0062</td><td>0</td></tr><tr><th>16</th><td>0.0298</td><td>0.0615</td><td>0.065</td><td>0.0921</td><td>0.1615</td><td>0.2294</td><td>0.2176</td><td>0.2033</td><td>0.1459</td><td>0.0852</td><td>0.2476</td><td>0.3645</td><td>0.2777</td><td>0.2826</td><td>0.3237</td><td>0.4335</td><td>0.5638</td><td>0.4555</td><td>0.4348</td><td>0.6433</td><td>0.3932</td><td>0.1989</td><td>0.354</td><td>0.9165</td><td>0.9371</td><td>0.462</td><td>0.2771</td><td>0.6613</td><td>0.8028</td><td>0.42</td><td>0.5192</td><td>0.6962</td><td>0.5792</td><td>0.8889</td><td>0.7863</td><td>0.7133</td><td>0.7615</td><td>0.4401</td><td>0.3009</td><td>0.3163</td><td>0.2809</td><td>0.2898</td><td>0.0526</td><td>0.1867</td><td>0.1553</td><td>0.1633</td><td>0.1252</td><td>0.0748</td><td>0.0452</td><td>0.0064</td><td>0.0154</td><td>0.0031</td><td>0.0153</td><td>0.0071</td><td>0.0212</td><td>0.0076</td><td>0.0152</td><td>0.0049</td><td>0.02</td><td>0.0073</td><td>0</td></tr><tr><th>17</th><td>0.0352</td><td>0.0116</td><td>0.0191</td><td>0.0469</td><td>0.0737</td><td>0.1185</td><td>0.1683</td><td>0.1541</td><td>0.1466</td><td>0.2912</td><td>0.2328</td><td>0.2237</td><td>0.247</td><td>0.156</td><td>0.3491</td><td>0.3308</td><td>0.2299</td><td>0.2203</td><td>0.2493</td><td>0.4128</td><td>0.3158</td><td>0.6191</td><td>0.5854</td><td>0.3395</td><td>0.2561</td><td>0.5599</td><td>0.8145</td><td>0.6941</td><td>0.6985</td><td>0.866</td><td>0.593</td><td>0.3664</td><td>0.675</td><td>0.8697</td><td>0.7837</td><td>0.7552</td><td>0.5789</td><td>0.4713</td><td>0.1252</td><td>0.6087</td><td>0.7322</td><td>0.5977</td><td>0.3431</td><td>0.1803</td><td>0.2378</td><td>0.3424</td><td>0.2303</td><td>0.0689</td><td>0.0216</td><td>0.0469</td><td>0.0426</td><td>0.0346</td><td>0.0158</td><td>0.0154</td><td>0.0109</td><td>0.0048</td><td>0.0095</td><td>0.0015</td><td>0.0073</td><td>0.0067</td><td>0</td></tr><tr><th>18</th><td>0.0192</td><td>0.0607</td><td>0.0378</td><td>0.0774</td><td>0.1388</td><td>0.0809</td><td>0.0568</td><td>0.0219</td><td>0.1037</td><td>0.1186</td><td>0.1237</td><td>0.1601</td><td>0.352</td><td>0.4479</td><td>0.3769</td><td>0.5761</td><td>0.6426</td><td>0.679</td><td>0.7157</td><td>0.5466</td><td>0.5399</td><td>0.6362</td><td>0.7849</td><td>0.7756</td><td>0.578</td><td>0.4862</td><td>0.4181</td><td>0.2457</td><td>0.0716</td><td>0.0613</td><td>0.1816</td><td>0.4493</td><td>0.5976</td><td>0.3785</td><td>0.2495</td><td>0.5771</td><td>0.8852</td><td>0.8409</td><td>0.357</td><td>0.3133</td><td>0.6096</td><td>0.6378</td><td>0.2709</td><td>0.1419</td><td>0.126</td><td>0.1288</td><td>0.079</td><td>0.0829</td><td>0.052</td><td>0.0216</td><td>0.036</td><td>0.0331</td><td>0.0131</td><td>0.012</td><td>0.0108</td><td>0.0024</td><td>0.0045</td><td>0.0037</td><td>0.0112</td><td>0.0075</td><td>0</td></tr><tr><th>19</th><td>0.027</td><td>0.0092</td><td>0.0145</td><td>0.0278</td><td>0.0412</td><td>0.0757</td><td>0.1026</td><td>0.1138</td><td>0.0794</td><td>0.152</td><td>0.1675</td><td>0.137</td><td>0.1361</td><td>0.1345</td><td>0.2144</td><td>0.5354</td><td>0.683</td><td>0.56</td><td>0.3093</td><td>0.3226</td><td>0.443</td><td>0.5573</td><td>0.5782</td><td>0.6173</td><td>0.8132</td><td>0.9819</td><td>0.9823</td><td>0.9166</td><td>0.7423</td><td>0.7736</td><td>0.8473</td><td>0.7352</td><td>0.6671</td><td>0.6083</td><td>0.6239</td><td>0.5972</td><td>0.5715</td><td>0.5242</td><td>0.2924</td><td>0.1536</td><td>0.2003</td><td>0.2031</td><td>0.2207</td><td>0.1778</td><td>0.1353</td><td>0.1373</td><td>0.0749</td><td>0.0472</td><td>0.0325</td><td>0.0179</td><td>0.0045</td><td>0.0084</td><td>0.001</td><td>0.0018</td><td>0.0068</td><td>0.0039</td><td>0.012</td><td>0.0132</td><td>0.007</td><td>0.0088</td><td>0</td></tr><tr><th>20</th><td>0.0126</td><td>0.0149</td><td>0.0641</td><td>0.1732</td><td>0.2565</td><td>0.2559</td><td>0.2947</td><td>0.411</td><td>0.4983</td><td>0.592</td><td>0.5832</td><td>0.5419</td><td>0.5472</td><td>0.5314</td><td>0.4981</td><td>0.6985</td><td>0.8292</td><td>0.7839</td><td>0.8215</td><td>0.9363</td><td>1.0</td><td>0.9224</td><td>0.7839</td><td>0.547</td><td>0.4562</td><td>0.5922</td><td>0.5448</td><td>0.3971</td><td>0.0882</td><td>0.2385</td><td>0.2005</td><td>0.0587</td><td>0.2544</td><td>0.2009</td><td>0.0329</td><td>0.1547</td><td>0.1212</td><td>0.2446</td><td>0.3171</td><td>0.3195</td><td>0.3051</td><td>0.0836</td><td>0.1266</td><td>0.1381</td><td>0.1136</td><td>0.0516</td><td>0.0073</td><td>0.0278</td><td>0.0372</td><td>0.0121</td><td>0.0153</td><td>0.0092</td><td>0.0035</td><td>0.0098</td><td>0.0121</td><td>0.0006</td><td>0.0181</td><td>0.0094</td><td>0.0116</td><td>0.0063</td><td>0</td></tr><tr><th>21</th><td>0.0473</td><td>0.0509</td><td>0.0819</td><td>0.1252</td><td>0.1783</td><td>0.307</td><td>0.3008</td><td>0.2362</td><td>0.383</td><td>0.3759</td><td>0.3021</td><td>0.2909</td><td>0.2301</td><td>0.1411</td><td>0.1582</td><td>0.243</td><td>0.4474</td><td>0.5964</td><td>0.6744</td><td>0.7969</td><td>0.8319</td><td>0.7813</td><td>0.8626</td><td>0.7369</td><td>0.4122</td><td>0.2596</td><td>0.3392</td><td>0.3788</td><td>0.4488</td><td>0.6281</td><td>0.7449</td><td>0.7328</td><td>0.7704</td><td>0.787</td><td>0.6048</td><td>0.586</td><td>0.6385</td><td>0.7279</td><td>0.6286</td><td>0.5316</td><td>0.4069</td><td>0.1791</td><td>0.1625</td><td>0.2527</td><td>0.1903</td><td>0.1643</td><td>0.0604</td><td>0.0209</td><td>0.0436</td><td>0.0175</td><td>0.0107</td><td>0.0193</td><td>0.0118</td><td>0.0064</td><td>0.0042</td><td>0.0054</td><td>0.0049</td><td>0.0082</td><td>0.0028</td><td>0.0027</td><td>0</td></tr><tr><th>22</th><td>0.0664</td><td>0.0575</td><td>0.0842</td><td>0.0372</td><td>0.0458</td><td>0.0771</td><td>0.0771</td><td>0.113</td><td>0.2353</td><td>0.1838</td><td>0.2869</td><td>0.4129</td><td>0.3647</td><td>0.1984</td><td>0.284</td><td>0.4039</td><td>0.5837</td><td>0.6792</td><td>0.6086</td><td>0.4858</td><td>0.3246</td><td>0.2013</td><td>0.2082</td><td>0.1686</td><td>0.2484</td><td>0.2736</td><td>0.2984</td><td>0.4655</td><td>0.699</td><td>0.7474</td><td>0.7956</td><td>0.7981</td><td>0.6715</td><td>0.6942</td><td>0.744</td><td>0.8169</td><td>0.8912</td><td>1.0</td><td>0.8753</td><td>0.7061</td><td>0.6803</td><td>0.5898</td><td>0.4618</td><td>0.3639</td><td>0.1492</td><td>0.1216</td><td>0.1306</td><td>0.1198</td><td>0.0578</td><td>0.0235</td><td>0.0135</td><td>0.0141</td><td>0.019</td><td>0.0043</td><td>0.0036</td><td>0.0026</td><td>0.0024</td><td>0.0162</td><td>0.0109</td><td>0.0079</td><td>0</td></tr><tr><th>23</th><td>0.0099</td><td>0.0484</td><td>0.0299</td><td>0.0297</td><td>0.0652</td><td>0.1077</td><td>0.2363</td><td>0.2385</td><td>0.0075</td><td>0.1882</td><td>0.1456</td><td>0.1892</td><td>0.3176</td><td>0.134</td><td>0.2169</td><td>0.2458</td><td>0.2589</td><td>0.2786</td><td>0.2298</td><td>0.0656</td><td>0.1441</td><td>0.1179</td><td>0.1668</td><td>0.1783</td><td>0.2476</td><td>0.257</td><td>0.1036</td><td>0.5356</td><td>0.7124</td><td>0.6291</td><td>0.4756</td><td>0.6015</td><td>0.7208</td><td>0.6234</td><td>0.5725</td><td>0.7523</td><td>0.8712</td><td>0.9252</td><td>0.9709</td><td>0.9297</td><td>0.8995</td><td>0.7911</td><td>0.56</td><td>0.2838</td><td>0.4407</td><td>0.5507</td><td>0.4331</td><td>0.2905</td><td>0.1981</td><td>0.0779</td><td>0.0396</td><td>0.0173</td><td>0.0149</td><td>0.0115</td><td>0.0202</td><td>0.0139</td><td>0.0029</td><td>0.016</td><td>0.0106</td><td>0.0134</td><td>0</td></tr><tr><th>24</th><td>0.0115</td><td>0.015</td><td>0.0136</td><td>0.0076</td><td>0.0211</td><td>0.1058</td><td>0.1023</td><td>0.044</td><td>0.0931</td><td>0.0734</td><td>0.074</td><td>0.0622</td><td>0.1055</td><td>0.1183</td><td>0.1721</td><td>0.2584</td><td>0.3232</td><td>0.3817</td><td>0.4243</td><td>0.4217</td><td>0.4449</td><td>0.4075</td><td>0.3306</td><td>0.4012</td><td>0.4466</td><td>0.5218</td><td>0.7552</td><td>0.9503</td><td>1.0</td><td>0.9084</td><td>0.8283</td><td>0.7571</td><td>0.7262</td><td>0.6152</td><td>0.568</td><td>0.5757</td><td>0.5324</td><td>0.3672</td><td>0.1669</td><td>0.0866</td><td>0.0646</td><td>0.1891</td><td>0.2683</td><td>0.2887</td><td>0.2341</td><td>0.1668</td><td>0.1015</td><td>0.1195</td><td>0.0704</td><td>0.0167</td><td>0.0107</td><td>0.0091</td><td>0.0016</td><td>0.0084</td><td>0.0064</td><td>0.0026</td><td>0.0029</td><td>0.0037</td><td>0.007</td><td>0.0041</td><td>0</td></tr><tr><th>25</th><td>0.0293</td><td>0.0644</td><td>0.039</td><td>0.0173</td><td>0.0476</td><td>0.0816</td><td>0.0993</td><td>0.0315</td><td>0.0736</td><td>0.086</td><td>0.0414</td><td>0.0472</td><td>0.0835</td><td>0.0938</td><td>0.1466</td><td>0.0809</td><td>0.1179</td><td>0.2179</td><td>0.3326</td><td>0.3258</td><td>0.2111</td><td>0.2302</td><td>0.3361</td><td>0.4259</td><td>0.4609</td><td>0.2606</td><td>0.0874</td><td>0.2862</td><td>0.5606</td><td>0.8344</td><td>0.8096</td><td>0.725</td><td>0.8048</td><td>0.9435</td><td>1.0</td><td>0.896</td><td>0.5516</td><td>0.3037</td><td>0.2338</td><td>0.2382</td><td>0.3318</td><td>0.3821</td><td>0.1575</td><td>0.2228</td><td>0.1582</td><td>0.1433</td><td>0.1634</td><td>0.1133</td><td>0.0567</td><td>0.0133</td><td>0.017</td><td>0.0035</td><td>0.0052</td><td>0.0083</td><td>0.0078</td><td>0.0075</td><td>0.0105</td><td>0.016</td><td>0.0095</td><td>0.0011</td><td>0</td></tr><tr><th>26</th><td>0.0201</td><td>0.0026</td><td>0.0138</td><td>0.0062</td><td>0.0133</td><td>0.0151</td><td>0.0541</td><td>0.021</td><td>0.0505</td><td>0.1097</td><td>0.0841</td><td>0.0942</td><td>0.1204</td><td>0.042</td><td>0.0031</td><td>0.0162</td><td>0.0624</td><td>0.2127</td><td>0.3436</td><td>0.3813</td><td>0.3825</td><td>0.4764</td><td>0.6313</td><td>0.7523</td><td>0.8675</td><td>0.8788</td><td>0.7901</td><td>0.8357</td><td>0.9631</td><td>0.9619</td><td>0.9236</td><td>0.8903</td><td>0.9708</td><td>0.9647</td><td>0.7892</td><td>0.5307</td><td>0.2718</td><td>0.1953</td><td>0.1374</td><td>0.3105</td><td>0.379</td><td>0.4105</td><td>0.3355</td><td>0.2998</td><td>0.2748</td><td>0.2024</td><td>0.1043</td><td>0.0453</td><td>0.0337</td><td>0.0122</td><td>0.0072</td><td>0.0108</td><td>0.007</td><td>0.0063</td><td>0.003</td><td>0.0011</td><td>0.0007</td><td>0.0024</td><td>0.0057</td><td>0.0044</td><td>0</td></tr><tr><th>27</th><td>0.0151</td><td>0.032</td><td>0.0599</td><td>0.105</td><td>0.1163</td><td>0.1734</td><td>0.1679</td><td>0.1119</td><td>0.0889</td><td>0.1205</td><td>0.0847</td><td>0.1518</td><td>0.2305</td><td>0.2793</td><td>0.3404</td><td>0.4527</td><td>0.695</td><td>0.8807</td><td>0.9154</td><td>0.7542</td><td>0.6736</td><td>0.7146</td><td>0.8335</td><td>0.7701</td><td>0.6993</td><td>0.6543</td><td>0.504</td><td>0.4926</td><td>0.4992</td><td>0.4161</td><td>0.1631</td><td>0.0404</td><td>0.0637</td><td>0.2962</td><td>0.3609</td><td>0.1866</td><td>0.0476</td><td>0.1497</td><td>0.2405</td><td>0.198</td><td>0.3175</td><td>0.2379</td><td>0.1716</td><td>0.1559</td><td>0.1556</td><td>0.0422</td><td>0.0493</td><td>0.0476</td><td>0.0219</td><td>0.0059</td><td>0.0086</td><td>0.0061</td><td>0.0015</td><td>0.0084</td><td>0.0128</td><td>0.0054</td><td>0.0011</td><td>0.0019</td><td>0.0023</td><td>0.0062</td><td>0</td></tr><tr><th>28</th><td>0.0177</td><td>0.03</td><td>0.0288</td><td>0.0394</td><td>0.063</td><td>0.0526</td><td>0.0688</td><td>0.0633</td><td>0.0624</td><td>0.0613</td><td>0.168</td><td>0.3476</td><td>0.4561</td><td>0.5188</td><td>0.6308</td><td>0.7201</td><td>0.5153</td><td>0.3818</td><td>0.2644</td><td>0.3345</td><td>0.4865</td><td>0.6628</td><td>0.7389</td><td>0.9213</td><td>1.0</td><td>0.775</td><td>0.5593</td><td>0.6172</td><td>0.8635</td><td>0.6592</td><td>0.477</td><td>0.4983</td><td>0.333</td><td>0.3076</td><td>0.2876</td><td>0.2226</td><td>0.0794</td><td>0.0603</td><td>0.1049</td><td>0.0606</td><td>0.153</td><td>0.0983</td><td>0.1643</td><td>0.1901</td><td>0.1107</td><td>0.1917</td><td>0.1467</td><td>0.0392</td><td>0.0356</td><td>0.027</td><td>0.0168</td><td>0.0102</td><td>0.0122</td><td>0.0044</td><td>0.0075</td><td>0.0124</td><td>0.0099</td><td>0.0057</td><td>0.0032</td><td>0.0019</td><td>0</td></tr><tr><th>29</th><td>0.01</td><td>0.0275</td><td>0.019</td><td>0.0371</td><td>0.0416</td><td>0.0201</td><td>0.0314</td><td>0.0651</td><td>0.1896</td><td>0.2668</td><td>0.3376</td><td>0.3282</td><td>0.2432</td><td>0.1268</td><td>0.1278</td><td>0.4441</td><td>0.6795</td><td>0.7051</td><td>0.7966</td><td>0.9401</td><td>0.9857</td><td>0.8193</td><td>0.5789</td><td>0.6394</td><td>0.7043</td><td>0.6875</td><td>0.4081</td><td>0.1811</td><td>0.2064</td><td>0.3917</td><td>0.3791</td><td>0.2042</td><td>0.2227</td><td>0.3341</td><td>0.3984</td><td>0.5077</td><td>0.5534</td><td>0.3352</td><td>0.2723</td><td>0.2278</td><td>0.2044</td><td>0.1986</td><td>0.0835</td><td>0.0908</td><td>0.138</td><td>0.1948</td><td>0.1211</td><td>0.0843</td><td>0.0589</td><td>0.0247</td><td>0.0118</td><td>0.0088</td><td>0.0104</td><td>0.0036</td><td>0.0088</td><td>0.0047</td><td>0.0117</td><td>0.002</td><td>0.0091</td><td>0.0058</td><td>0</td></tr><tr><th>30</th><td>0.0189</td><td>0.0308</td><td>0.0197</td><td>0.0622</td><td>0.008</td><td>0.0789</td><td>0.144</td><td>0.1451</td><td>0.1789</td><td>0.2522</td><td>0.2607</td><td>0.371</td><td>0.3906</td><td>0.2672</td><td>0.2716</td><td>0.4183</td><td>0.6988</td><td>0.5733</td><td>0.2226</td><td>0.2631</td><td>0.7473</td><td>0.7263</td><td>0.3393</td><td>0.2824</td><td>0.6053</td><td>0.5897</td><td>0.4967</td><td>0.8616</td><td>0.8339</td><td>0.4084</td><td>0.2268</td><td>0.1745</td><td>0.0507</td><td>0.1588</td><td>0.304</td><td>0.1369</td><td>0.1605</td><td>0.2061</td><td>0.0734</td><td>0.0202</td><td>0.1638</td><td>0.1583</td><td>0.183</td><td>0.1886</td><td>0.1008</td><td>0.0663</td><td>0.0183</td><td>0.0404</td><td>0.0108</td><td>0.0143</td><td>0.0091</td><td>0.0038</td><td>0.0096</td><td>0.0142</td><td>0.019</td><td>0.014</td><td>0.0099</td><td>0.0092</td><td>0.0052</td><td>0.0075</td><td>0</td></tr><tr><th>&vellip;</th><td>&vellip;</td><td>&vellip;</td><td>&vellip;</td><td>&vellip;</td><td>&vellip;</td><td>&vellip;</td><td>&vellip;</td><td>&vellip;</td><td>&vellip;</td><td>&vellip;</td><td>&vellip;</td><td>&vellip;</td><td>&vellip;</td><td>&vellip;</td><td>&vellip;</td><td>&vellip;</td><td>&vellip;</td><td>&vellip;</td><td>&vellip;</td><td>&vellip;</td><td>&vellip;</td><td>&vellip;</td><td>&vellip;</td><td>&vellip;</td><td>&vellip;</td><td>&vellip;</td><td>&vellip;</td><td>&vellip;</td><td>&vellip;</td><td>&vellip;</td><td>&vellip;</td><td>&vellip;</td><td>&vellip;</td><td>&vellip;</td><td>&vellip;</td><td>&vellip;</td><td>&vellip;</td><td>&vellip;</td><td>&vellip;</td><td>&vellip;</td><td>&vellip;</td><td>&vellip;</td><td>&vellip;</td><td>&vellip;</td><td>&vellip;</td><td>&vellip;</td><td>&vellip;</td><td>&vellip;</td><td>&vellip;</td><td>&vellip;</td><td>&vellip;</td><td>&vellip;</td><td>&vellip;</td><td>&vellip;</td><td>&vellip;</td><td>&vellip;</td><td>&vellip;</td><td>&vellip;</td><td>&vellip;</td><td>&vellip;</td><td>&vellip;</td></tr></tbody></table>"
      ],
      "text/latex": [
       "\\begin{tabular}{r|ccccccccccccccccccccccccccccccccccccccccccccccccccccccccccccc}\n",
       "\t& Feature1 & Feature2 & Feature3 & Feature4 & Feature5 & Feature6 & Feature7 & Feature8 & Feature9 & Feature10 & Feature11 & Feature12 & Feature13 & Feature14 & Feature15 & Feature16 & Feature17 & Feature18 & Feature19 & Feature20 & Feature21 & Feature22 & Feature23 & Feature24 & Feature25 & Feature26 & Feature27 & Feature28 & Feature29 & Feature30 & Feature31 & Feature32 & Feature33 & Feature34 & Feature35 & Feature36 & Feature37 & Feature38 & Feature39 & Feature40 & Feature41 & Feature42 & Feature43 & Feature44 & Feature45 & Feature46 & Feature47 & Feature48 & Feature49 & Feature50 & Feature51 & Feature52 & Feature53 & Feature54 & Feature55 & Feature56 & Feature57 & Feature58 & Feature59 & Feature60 & Clase\\_rc\\\\\n",
       "\t\\hline\n",
       "\t& Float64 & Float64 & Float64 & Float64 & Float64 & Float64 & Float64 & Float64 & Float64 & Float64 & Float64 & Float64 & Float64 & Float64 & Float64 & Float64 & Float64 & Float64 & Float64 & Float64 & Float64 & Float64 & Float64 & Float64 & Float64 & Float64 & Float64 & Float64 & Float64 & Float64 & Float64 & Float64 & Float64 & Float64 & Float64 & Float64 & Float64 & Float64 & Float64 & Float64 & Float64 & Float64 & Float64 & Float64 & Float64 & Float64 & Float64 & Float64 & Float64 & Float64 & Float64 & Float64 & Float64 & Float64 & Float64 & Float64 & Float64 & Float64 & Float64 & Float64 & Int64\\\\\n",
       "\t\\hline\n",
       "\t1 & 0.02 & 0.0371 & 0.0428 & 0.0207 & 0.0954 & 0.0986 & 0.1539 & 0.1601 & 0.3109 & 0.2111 & 0.1609 & 0.1582 & 0.2238 & 0.0645 & 0.066 & 0.2273 & 0.31 & 0.2999 & 0.5078 & 0.4797 & 0.5783 & 0.5071 & 0.4328 & 0.555 & 0.6711 & 0.6415 & 0.7104 & 0.808 & 0.6791 & 0.3857 & 0.1307 & 0.2604 & 0.5121 & 0.7547 & 0.8537 & 0.8507 & 0.6692 & 0.6097 & 0.4943 & 0.2744 & 0.051 & 0.2834 & 0.2825 & 0.4256 & 0.2641 & 0.1386 & 0.1051 & 0.1343 & 0.0383 & 0.0324 & 0.0232 & 0.0027 & 0.0065 & 0.0159 & 0.0072 & 0.0167 & 0.018 & 0.0084 & 0.009 & 0.0032 & 0 \\\\\n",
       "\t2 & 0.0453 & 0.0523 & 0.0843 & 0.0689 & 0.1183 & 0.2583 & 0.2156 & 0.3481 & 0.3337 & 0.2872 & 0.4918 & 0.6552 & 0.6919 & 0.7797 & 0.7464 & 0.9444 & 1.0 & 0.8874 & 0.8024 & 0.7818 & 0.5212 & 0.4052 & 0.3957 & 0.3914 & 0.325 & 0.32 & 0.3271 & 0.2767 & 0.4423 & 0.2028 & 0.3788 & 0.2947 & 0.1984 & 0.2341 & 0.1306 & 0.4182 & 0.3835 & 0.1057 & 0.184 & 0.197 & 0.1674 & 0.0583 & 0.1401 & 0.1628 & 0.0621 & 0.0203 & 0.053 & 0.0742 & 0.0409 & 0.0061 & 0.0125 & 0.0084 & 0.0089 & 0.0048 & 0.0094 & 0.0191 & 0.014 & 0.0049 & 0.0052 & 0.0044 & 0 \\\\\n",
       "\t3 & 0.0262 & 0.0582 & 0.1099 & 0.1083 & 0.0974 & 0.228 & 0.2431 & 0.3771 & 0.5598 & 0.6194 & 0.6333 & 0.706 & 0.5544 & 0.532 & 0.6479 & 0.6931 & 0.6759 & 0.7551 & 0.8929 & 0.8619 & 0.7974 & 0.6737 & 0.4293 & 0.3648 & 0.5331 & 0.2413 & 0.507 & 0.8533 & 0.6036 & 0.8514 & 0.8512 & 0.5045 & 0.1862 & 0.2709 & 0.4232 & 0.3043 & 0.6116 & 0.6756 & 0.5375 & 0.4719 & 0.4647 & 0.2587 & 0.2129 & 0.2222 & 0.2111 & 0.0176 & 0.1348 & 0.0744 & 0.013 & 0.0106 & 0.0033 & 0.0232 & 0.0166 & 0.0095 & 0.018 & 0.0244 & 0.0316 & 0.0164 & 0.0095 & 0.0078 & 0 \\\\\n",
       "\t4 & 0.01 & 0.0171 & 0.0623 & 0.0205 & 0.0205 & 0.0368 & 0.1098 & 0.1276 & 0.0598 & 0.1264 & 0.0881 & 0.1992 & 0.0184 & 0.2261 & 0.1729 & 0.2131 & 0.0693 & 0.2281 & 0.406 & 0.3973 & 0.2741 & 0.369 & 0.5556 & 0.4846 & 0.314 & 0.5334 & 0.5256 & 0.252 & 0.209 & 0.3559 & 0.626 & 0.734 & 0.612 & 0.3497 & 0.3953 & 0.3012 & 0.5408 & 0.8814 & 0.9857 & 0.9167 & 0.6121 & 0.5006 & 0.321 & 0.3202 & 0.4295 & 0.3654 & 0.2655 & 0.1576 & 0.0681 & 0.0294 & 0.0241 & 0.0121 & 0.0036 & 0.015 & 0.0085 & 0.0073 & 0.005 & 0.0044 & 0.004 & 0.0117 & 0 \\\\\n",
       "\t5 & 0.0762 & 0.0666 & 0.0481 & 0.0394 & 0.059 & 0.0649 & 0.1209 & 0.2467 & 0.3564 & 0.4459 & 0.4152 & 0.3952 & 0.4256 & 0.4135 & 0.4528 & 0.5326 & 0.7306 & 0.6193 & 0.2032 & 0.4636 & 0.4148 & 0.4292 & 0.573 & 0.5399 & 0.3161 & 0.2285 & 0.6995 & 1.0 & 0.7262 & 0.4724 & 0.5103 & 0.5459 & 0.2881 & 0.0981 & 0.1951 & 0.4181 & 0.4604 & 0.3217 & 0.2828 & 0.243 & 0.1979 & 0.2444 & 0.1847 & 0.0841 & 0.0692 & 0.0528 & 0.0357 & 0.0085 & 0.023 & 0.0046 & 0.0156 & 0.0031 & 0.0054 & 0.0105 & 0.011 & 0.0015 & 0.0072 & 0.0048 & 0.0107 & 0.0094 & 0 \\\\\n",
       "\t6 & 0.0286 & 0.0453 & 0.0277 & 0.0174 & 0.0384 & 0.099 & 0.1201 & 0.1833 & 0.2105 & 0.3039 & 0.2988 & 0.425 & 0.6343 & 0.8198 & 1.0 & 0.9988 & 0.9508 & 0.9025 & 0.7234 & 0.5122 & 0.2074 & 0.3985 & 0.589 & 0.2872 & 0.2043 & 0.5782 & 0.5389 & 0.375 & 0.3411 & 0.5067 & 0.558 & 0.4778 & 0.3299 & 0.2198 & 0.1407 & 0.2856 & 0.3807 & 0.4158 & 0.4054 & 0.3296 & 0.2707 & 0.265 & 0.0723 & 0.1238 & 0.1192 & 0.1089 & 0.0623 & 0.0494 & 0.0264 & 0.0081 & 0.0104 & 0.0045 & 0.0014 & 0.0038 & 0.0013 & 0.0089 & 0.0057 & 0.0027 & 0.0051 & 0.0062 & 0 \\\\\n",
       "\t7 & 0.0317 & 0.0956 & 0.1321 & 0.1408 & 0.1674 & 0.171 & 0.0731 & 0.1401 & 0.2083 & 0.3513 & 0.1786 & 0.0658 & 0.0513 & 0.3752 & 0.5419 & 0.544 & 0.515 & 0.4262 & 0.2024 & 0.4233 & 0.7723 & 0.9735 & 0.939 & 0.5559 & 0.5268 & 0.6826 & 0.5713 & 0.5429 & 0.2177 & 0.2149 & 0.5811 & 0.6323 & 0.2965 & 0.1873 & 0.2969 & 0.5163 & 0.6153 & 0.4283 & 0.5479 & 0.6133 & 0.5017 & 0.2377 & 0.1957 & 0.1749 & 0.1304 & 0.0597 & 0.1124 & 0.1047 & 0.0507 & 0.0159 & 0.0195 & 0.0201 & 0.0248 & 0.0131 & 0.007 & 0.0138 & 0.0092 & 0.0143 & 0.0036 & 0.0103 & 0 \\\\\n",
       "\t8 & 0.0519 & 0.0548 & 0.0842 & 0.0319 & 0.1158 & 0.0922 & 0.1027 & 0.0613 & 0.1465 & 0.2838 & 0.2802 & 0.3086 & 0.2657 & 0.3801 & 0.5626 & 0.4376 & 0.2617 & 0.1199 & 0.6676 & 0.9402 & 0.7832 & 0.5352 & 0.6809 & 0.9174 & 0.7613 & 0.822 & 0.8872 & 0.6091 & 0.2967 & 0.1103 & 0.1318 & 0.0624 & 0.099 & 0.4006 & 0.3666 & 0.105 & 0.1915 & 0.393 & 0.4288 & 0.2546 & 0.1151 & 0.2196 & 0.1879 & 0.1437 & 0.2146 & 0.236 & 0.1125 & 0.0254 & 0.0285 & 0.0178 & 0.0052 & 0.0081 & 0.012 & 0.0045 & 0.0121 & 0.0097 & 0.0085 & 0.0047 & 0.0048 & 0.0053 & 0 \\\\\n",
       "\t9 & 0.0223 & 0.0375 & 0.0484 & 0.0475 & 0.0647 & 0.0591 & 0.0753 & 0.0098 & 0.0684 & 0.1487 & 0.1156 & 0.1654 & 0.3833 & 0.3598 & 0.1713 & 0.1136 & 0.0349 & 0.3796 & 0.7401 & 0.9925 & 0.9802 & 0.889 & 0.6712 & 0.4286 & 0.3374 & 0.7366 & 0.9611 & 0.7353 & 0.4856 & 0.1594 & 0.3007 & 0.4096 & 0.317 & 0.3305 & 0.3408 & 0.2186 & 0.2463 & 0.2726 & 0.168 & 0.2792 & 0.2558 & 0.174 & 0.2121 & 0.1099 & 0.0985 & 0.1271 & 0.1459 & 0.1164 & 0.0777 & 0.0439 & 0.0061 & 0.0145 & 0.0128 & 0.0145 & 0.0058 & 0.0049 & 0.0065 & 0.0093 & 0.0059 & 0.0022 & 0 \\\\\n",
       "\t10 & 0.0164 & 0.0173 & 0.0347 & 0.007 & 0.0187 & 0.0671 & 0.1056 & 0.0697 & 0.0962 & 0.0251 & 0.0801 & 0.1056 & 0.1266 & 0.089 & 0.0198 & 0.1133 & 0.2826 & 0.3234 & 0.3238 & 0.4333 & 0.6068 & 0.7652 & 0.9203 & 0.9719 & 0.9207 & 0.7545 & 0.8289 & 0.8907 & 0.7309 & 0.6896 & 0.5829 & 0.4935 & 0.3101 & 0.0306 & 0.0244 & 0.1108 & 0.1594 & 0.1371 & 0.0696 & 0.0452 & 0.062 & 0.1421 & 0.1597 & 0.1384 & 0.0372 & 0.0688 & 0.0867 & 0.0513 & 0.0092 & 0.0198 & 0.0118 & 0.009 & 0.0223 & 0.0179 & 0.0084 & 0.0068 & 0.0032 & 0.0035 & 0.0056 & 0.004 & 0 \\\\\n",
       "\t11 & 0.0039 & 0.0063 & 0.0152 & 0.0336 & 0.031 & 0.0284 & 0.0396 & 0.0272 & 0.0323 & 0.0452 & 0.0492 & 0.0996 & 0.1424 & 0.1194 & 0.0628 & 0.0907 & 0.1177 & 0.1429 & 0.1223 & 0.1104 & 0.1847 & 0.3715 & 0.4382 & 0.5707 & 0.6654 & 0.7476 & 0.7654 & 0.8555 & 0.972 & 0.9221 & 0.7502 & 0.7209 & 0.7757 & 0.6055 & 0.5021 & 0.4499 & 0.3947 & 0.4281 & 0.4427 & 0.3749 & 0.1972 & 0.0511 & 0.0793 & 0.1269 & 0.1533 & 0.069 & 0.0402 & 0.0534 & 0.0228 & 0.0073 & 0.0062 & 0.0062 & 0.012 & 0.0052 & 0.0056 & 0.0093 & 0.0042 & 0.0003 & 0.0053 & 0.0036 & 0 \\\\\n",
       "\t12 & 0.0123 & 0.0309 & 0.0169 & 0.0313 & 0.0358 & 0.0102 & 0.0182 & 0.0579 & 0.1122 & 0.0835 & 0.0548 & 0.0847 & 0.2026 & 0.2557 & 0.187 & 0.2032 & 0.1463 & 0.2849 & 0.5824 & 0.7728 & 0.7852 & 0.8515 & 0.5312 & 0.3653 & 0.5973 & 0.8275 & 1.0 & 0.8673 & 0.6301 & 0.4591 & 0.394 & 0.2576 & 0.2817 & 0.2641 & 0.2757 & 0.2698 & 0.3994 & 0.4576 & 0.394 & 0.2522 & 0.1782 & 0.1354 & 0.0516 & 0.0337 & 0.0894 & 0.0861 & 0.0872 & 0.0445 & 0.0134 & 0.0217 & 0.0188 & 0.0133 & 0.0265 & 0.0224 & 0.0074 & 0.0118 & 0.0026 & 0.0092 & 0.0009 & 0.0044 & 0 \\\\\n",
       "\t13 & 0.0079 & 0.0086 & 0.0055 & 0.025 & 0.0344 & 0.0546 & 0.0528 & 0.0958 & 0.1009 & 0.124 & 0.1097 & 0.1215 & 0.1874 & 0.3383 & 0.3227 & 0.2723 & 0.3943 & 0.6432 & 0.7271 & 0.8673 & 0.9674 & 0.9847 & 0.948 & 0.8036 & 0.6833 & 0.5136 & 0.309 & 0.0832 & 0.4019 & 0.2344 & 0.1905 & 0.1235 & 0.1717 & 0.2351 & 0.2489 & 0.3649 & 0.3382 & 0.1589 & 0.0989 & 0.1089 & 0.1043 & 0.0839 & 0.1391 & 0.0819 & 0.0678 & 0.0663 & 0.1202 & 0.0692 & 0.0152 & 0.0266 & 0.0174 & 0.0176 & 0.0127 & 0.0088 & 0.0098 & 0.0019 & 0.0059 & 0.0058 & 0.0059 & 0.0032 & 0 \\\\\n",
       "\t14 & 0.009 & 0.0062 & 0.0253 & 0.0489 & 0.1197 & 0.1589 & 0.1392 & 0.0987 & 0.0955 & 0.1895 & 0.1896 & 0.2547 & 0.4073 & 0.2988 & 0.2901 & 0.5326 & 0.4022 & 0.1571 & 0.3024 & 0.3907 & 0.3542 & 0.4438 & 0.6414 & 0.4601 & 0.6009 & 0.869 & 0.8345 & 0.7669 & 0.5081 & 0.462 & 0.538 & 0.5375 & 0.3844 & 0.3601 & 0.7402 & 0.7761 & 0.3858 & 0.0667 & 0.3684 & 0.6114 & 0.351 & 0.2312 & 0.2195 & 0.3051 & 0.1937 & 0.157 & 0.0479 & 0.0538 & 0.0146 & 0.0068 & 0.0187 & 0.0059 & 0.0095 & 0.0194 & 0.008 & 0.0152 & 0.0158 & 0.0053 & 0.0189 & 0.0102 & 0 \\\\\n",
       "\t15 & 0.0124 & 0.0433 & 0.0604 & 0.0449 & 0.0597 & 0.0355 & 0.0531 & 0.0343 & 0.1052 & 0.212 & 0.164 & 0.1901 & 0.3026 & 0.2019 & 0.0592 & 0.239 & 0.3657 & 0.3809 & 0.5929 & 0.6299 & 0.5801 & 0.4574 & 0.4449 & 0.3691 & 0.6446 & 0.894 & 0.8978 & 0.498 & 0.3333 & 0.235 & 0.1553 & 0.3666 & 0.434 & 0.3082 & 0.3024 & 0.4109 & 0.5501 & 0.4129 & 0.5499 & 0.5018 & 0.3132 & 0.2802 & 0.2351 & 0.2298 & 0.1155 & 0.0724 & 0.0621 & 0.0318 & 0.045 & 0.0167 & 0.0078 & 0.0083 & 0.0057 & 0.0174 & 0.0188 & 0.0054 & 0.0114 & 0.0196 & 0.0147 & 0.0062 & 0 \\\\\n",
       "\t16 & 0.0298 & 0.0615 & 0.065 & 0.0921 & 0.1615 & 0.2294 & 0.2176 & 0.2033 & 0.1459 & 0.0852 & 0.2476 & 0.3645 & 0.2777 & 0.2826 & 0.3237 & 0.4335 & 0.5638 & 0.4555 & 0.4348 & 0.6433 & 0.3932 & 0.1989 & 0.354 & 0.9165 & 0.9371 & 0.462 & 0.2771 & 0.6613 & 0.8028 & 0.42 & 0.5192 & 0.6962 & 0.5792 & 0.8889 & 0.7863 & 0.7133 & 0.7615 & 0.4401 & 0.3009 & 0.3163 & 0.2809 & 0.2898 & 0.0526 & 0.1867 & 0.1553 & 0.1633 & 0.1252 & 0.0748 & 0.0452 & 0.0064 & 0.0154 & 0.0031 & 0.0153 & 0.0071 & 0.0212 & 0.0076 & 0.0152 & 0.0049 & 0.02 & 0.0073 & 0 \\\\\n",
       "\t17 & 0.0352 & 0.0116 & 0.0191 & 0.0469 & 0.0737 & 0.1185 & 0.1683 & 0.1541 & 0.1466 & 0.2912 & 0.2328 & 0.2237 & 0.247 & 0.156 & 0.3491 & 0.3308 & 0.2299 & 0.2203 & 0.2493 & 0.4128 & 0.3158 & 0.6191 & 0.5854 & 0.3395 & 0.2561 & 0.5599 & 0.8145 & 0.6941 & 0.6985 & 0.866 & 0.593 & 0.3664 & 0.675 & 0.8697 & 0.7837 & 0.7552 & 0.5789 & 0.4713 & 0.1252 & 0.6087 & 0.7322 & 0.5977 & 0.3431 & 0.1803 & 0.2378 & 0.3424 & 0.2303 & 0.0689 & 0.0216 & 0.0469 & 0.0426 & 0.0346 & 0.0158 & 0.0154 & 0.0109 & 0.0048 & 0.0095 & 0.0015 & 0.0073 & 0.0067 & 0 \\\\\n",
       "\t18 & 0.0192 & 0.0607 & 0.0378 & 0.0774 & 0.1388 & 0.0809 & 0.0568 & 0.0219 & 0.1037 & 0.1186 & 0.1237 & 0.1601 & 0.352 & 0.4479 & 0.3769 & 0.5761 & 0.6426 & 0.679 & 0.7157 & 0.5466 & 0.5399 & 0.6362 & 0.7849 & 0.7756 & 0.578 & 0.4862 & 0.4181 & 0.2457 & 0.0716 & 0.0613 & 0.1816 & 0.4493 & 0.5976 & 0.3785 & 0.2495 & 0.5771 & 0.8852 & 0.8409 & 0.357 & 0.3133 & 0.6096 & 0.6378 & 0.2709 & 0.1419 & 0.126 & 0.1288 & 0.079 & 0.0829 & 0.052 & 0.0216 & 0.036 & 0.0331 & 0.0131 & 0.012 & 0.0108 & 0.0024 & 0.0045 & 0.0037 & 0.0112 & 0.0075 & 0 \\\\\n",
       "\t19 & 0.027 & 0.0092 & 0.0145 & 0.0278 & 0.0412 & 0.0757 & 0.1026 & 0.1138 & 0.0794 & 0.152 & 0.1675 & 0.137 & 0.1361 & 0.1345 & 0.2144 & 0.5354 & 0.683 & 0.56 & 0.3093 & 0.3226 & 0.443 & 0.5573 & 0.5782 & 0.6173 & 0.8132 & 0.9819 & 0.9823 & 0.9166 & 0.7423 & 0.7736 & 0.8473 & 0.7352 & 0.6671 & 0.6083 & 0.6239 & 0.5972 & 0.5715 & 0.5242 & 0.2924 & 0.1536 & 0.2003 & 0.2031 & 0.2207 & 0.1778 & 0.1353 & 0.1373 & 0.0749 & 0.0472 & 0.0325 & 0.0179 & 0.0045 & 0.0084 & 0.001 & 0.0018 & 0.0068 & 0.0039 & 0.012 & 0.0132 & 0.007 & 0.0088 & 0 \\\\\n",
       "\t20 & 0.0126 & 0.0149 & 0.0641 & 0.1732 & 0.2565 & 0.2559 & 0.2947 & 0.411 & 0.4983 & 0.592 & 0.5832 & 0.5419 & 0.5472 & 0.5314 & 0.4981 & 0.6985 & 0.8292 & 0.7839 & 0.8215 & 0.9363 & 1.0 & 0.9224 & 0.7839 & 0.547 & 0.4562 & 0.5922 & 0.5448 & 0.3971 & 0.0882 & 0.2385 & 0.2005 & 0.0587 & 0.2544 & 0.2009 & 0.0329 & 0.1547 & 0.1212 & 0.2446 & 0.3171 & 0.3195 & 0.3051 & 0.0836 & 0.1266 & 0.1381 & 0.1136 & 0.0516 & 0.0073 & 0.0278 & 0.0372 & 0.0121 & 0.0153 & 0.0092 & 0.0035 & 0.0098 & 0.0121 & 0.0006 & 0.0181 & 0.0094 & 0.0116 & 0.0063 & 0 \\\\\n",
       "\t21 & 0.0473 & 0.0509 & 0.0819 & 0.1252 & 0.1783 & 0.307 & 0.3008 & 0.2362 & 0.383 & 0.3759 & 0.3021 & 0.2909 & 0.2301 & 0.1411 & 0.1582 & 0.243 & 0.4474 & 0.5964 & 0.6744 & 0.7969 & 0.8319 & 0.7813 & 0.8626 & 0.7369 & 0.4122 & 0.2596 & 0.3392 & 0.3788 & 0.4488 & 0.6281 & 0.7449 & 0.7328 & 0.7704 & 0.787 & 0.6048 & 0.586 & 0.6385 & 0.7279 & 0.6286 & 0.5316 & 0.4069 & 0.1791 & 0.1625 & 0.2527 & 0.1903 & 0.1643 & 0.0604 & 0.0209 & 0.0436 & 0.0175 & 0.0107 & 0.0193 & 0.0118 & 0.0064 & 0.0042 & 0.0054 & 0.0049 & 0.0082 & 0.0028 & 0.0027 & 0 \\\\\n",
       "\t22 & 0.0664 & 0.0575 & 0.0842 & 0.0372 & 0.0458 & 0.0771 & 0.0771 & 0.113 & 0.2353 & 0.1838 & 0.2869 & 0.4129 & 0.3647 & 0.1984 & 0.284 & 0.4039 & 0.5837 & 0.6792 & 0.6086 & 0.4858 & 0.3246 & 0.2013 & 0.2082 & 0.1686 & 0.2484 & 0.2736 & 0.2984 & 0.4655 & 0.699 & 0.7474 & 0.7956 & 0.7981 & 0.6715 & 0.6942 & 0.744 & 0.8169 & 0.8912 & 1.0 & 0.8753 & 0.7061 & 0.6803 & 0.5898 & 0.4618 & 0.3639 & 0.1492 & 0.1216 & 0.1306 & 0.1198 & 0.0578 & 0.0235 & 0.0135 & 0.0141 & 0.019 & 0.0043 & 0.0036 & 0.0026 & 0.0024 & 0.0162 & 0.0109 & 0.0079 & 0 \\\\\n",
       "\t23 & 0.0099 & 0.0484 & 0.0299 & 0.0297 & 0.0652 & 0.1077 & 0.2363 & 0.2385 & 0.0075 & 0.1882 & 0.1456 & 0.1892 & 0.3176 & 0.134 & 0.2169 & 0.2458 & 0.2589 & 0.2786 & 0.2298 & 0.0656 & 0.1441 & 0.1179 & 0.1668 & 0.1783 & 0.2476 & 0.257 & 0.1036 & 0.5356 & 0.7124 & 0.6291 & 0.4756 & 0.6015 & 0.7208 & 0.6234 & 0.5725 & 0.7523 & 0.8712 & 0.9252 & 0.9709 & 0.9297 & 0.8995 & 0.7911 & 0.56 & 0.2838 & 0.4407 & 0.5507 & 0.4331 & 0.2905 & 0.1981 & 0.0779 & 0.0396 & 0.0173 & 0.0149 & 0.0115 & 0.0202 & 0.0139 & 0.0029 & 0.016 & 0.0106 & 0.0134 & 0 \\\\\n",
       "\t24 & 0.0115 & 0.015 & 0.0136 & 0.0076 & 0.0211 & 0.1058 & 0.1023 & 0.044 & 0.0931 & 0.0734 & 0.074 & 0.0622 & 0.1055 & 0.1183 & 0.1721 & 0.2584 & 0.3232 & 0.3817 & 0.4243 & 0.4217 & 0.4449 & 0.4075 & 0.3306 & 0.4012 & 0.4466 & 0.5218 & 0.7552 & 0.9503 & 1.0 & 0.9084 & 0.8283 & 0.7571 & 0.7262 & 0.6152 & 0.568 & 0.5757 & 0.5324 & 0.3672 & 0.1669 & 0.0866 & 0.0646 & 0.1891 & 0.2683 & 0.2887 & 0.2341 & 0.1668 & 0.1015 & 0.1195 & 0.0704 & 0.0167 & 0.0107 & 0.0091 & 0.0016 & 0.0084 & 0.0064 & 0.0026 & 0.0029 & 0.0037 & 0.007 & 0.0041 & 0 \\\\\n",
       "\t25 & 0.0293 & 0.0644 & 0.039 & 0.0173 & 0.0476 & 0.0816 & 0.0993 & 0.0315 & 0.0736 & 0.086 & 0.0414 & 0.0472 & 0.0835 & 0.0938 & 0.1466 & 0.0809 & 0.1179 & 0.2179 & 0.3326 & 0.3258 & 0.2111 & 0.2302 & 0.3361 & 0.4259 & 0.4609 & 0.2606 & 0.0874 & 0.2862 & 0.5606 & 0.8344 & 0.8096 & 0.725 & 0.8048 & 0.9435 & 1.0 & 0.896 & 0.5516 & 0.3037 & 0.2338 & 0.2382 & 0.3318 & 0.3821 & 0.1575 & 0.2228 & 0.1582 & 0.1433 & 0.1634 & 0.1133 & 0.0567 & 0.0133 & 0.017 & 0.0035 & 0.0052 & 0.0083 & 0.0078 & 0.0075 & 0.0105 & 0.016 & 0.0095 & 0.0011 & 0 \\\\\n",
       "\t26 & 0.0201 & 0.0026 & 0.0138 & 0.0062 & 0.0133 & 0.0151 & 0.0541 & 0.021 & 0.0505 & 0.1097 & 0.0841 & 0.0942 & 0.1204 & 0.042 & 0.0031 & 0.0162 & 0.0624 & 0.2127 & 0.3436 & 0.3813 & 0.3825 & 0.4764 & 0.6313 & 0.7523 & 0.8675 & 0.8788 & 0.7901 & 0.8357 & 0.9631 & 0.9619 & 0.9236 & 0.8903 & 0.9708 & 0.9647 & 0.7892 & 0.5307 & 0.2718 & 0.1953 & 0.1374 & 0.3105 & 0.379 & 0.4105 & 0.3355 & 0.2998 & 0.2748 & 0.2024 & 0.1043 & 0.0453 & 0.0337 & 0.0122 & 0.0072 & 0.0108 & 0.007 & 0.0063 & 0.003 & 0.0011 & 0.0007 & 0.0024 & 0.0057 & 0.0044 & 0 \\\\\n",
       "\t27 & 0.0151 & 0.032 & 0.0599 & 0.105 & 0.1163 & 0.1734 & 0.1679 & 0.1119 & 0.0889 & 0.1205 & 0.0847 & 0.1518 & 0.2305 & 0.2793 & 0.3404 & 0.4527 & 0.695 & 0.8807 & 0.9154 & 0.7542 & 0.6736 & 0.7146 & 0.8335 & 0.7701 & 0.6993 & 0.6543 & 0.504 & 0.4926 & 0.4992 & 0.4161 & 0.1631 & 0.0404 & 0.0637 & 0.2962 & 0.3609 & 0.1866 & 0.0476 & 0.1497 & 0.2405 & 0.198 & 0.3175 & 0.2379 & 0.1716 & 0.1559 & 0.1556 & 0.0422 & 0.0493 & 0.0476 & 0.0219 & 0.0059 & 0.0086 & 0.0061 & 0.0015 & 0.0084 & 0.0128 & 0.0054 & 0.0011 & 0.0019 & 0.0023 & 0.0062 & 0 \\\\\n",
       "\t28 & 0.0177 & 0.03 & 0.0288 & 0.0394 & 0.063 & 0.0526 & 0.0688 & 0.0633 & 0.0624 & 0.0613 & 0.168 & 0.3476 & 0.4561 & 0.5188 & 0.6308 & 0.7201 & 0.5153 & 0.3818 & 0.2644 & 0.3345 & 0.4865 & 0.6628 & 0.7389 & 0.9213 & 1.0 & 0.775 & 0.5593 & 0.6172 & 0.8635 & 0.6592 & 0.477 & 0.4983 & 0.333 & 0.3076 & 0.2876 & 0.2226 & 0.0794 & 0.0603 & 0.1049 & 0.0606 & 0.153 & 0.0983 & 0.1643 & 0.1901 & 0.1107 & 0.1917 & 0.1467 & 0.0392 & 0.0356 & 0.027 & 0.0168 & 0.0102 & 0.0122 & 0.0044 & 0.0075 & 0.0124 & 0.0099 & 0.0057 & 0.0032 & 0.0019 & 0 \\\\\n",
       "\t29 & 0.01 & 0.0275 & 0.019 & 0.0371 & 0.0416 & 0.0201 & 0.0314 & 0.0651 & 0.1896 & 0.2668 & 0.3376 & 0.3282 & 0.2432 & 0.1268 & 0.1278 & 0.4441 & 0.6795 & 0.7051 & 0.7966 & 0.9401 & 0.9857 & 0.8193 & 0.5789 & 0.6394 & 0.7043 & 0.6875 & 0.4081 & 0.1811 & 0.2064 & 0.3917 & 0.3791 & 0.2042 & 0.2227 & 0.3341 & 0.3984 & 0.5077 & 0.5534 & 0.3352 & 0.2723 & 0.2278 & 0.2044 & 0.1986 & 0.0835 & 0.0908 & 0.138 & 0.1948 & 0.1211 & 0.0843 & 0.0589 & 0.0247 & 0.0118 & 0.0088 & 0.0104 & 0.0036 & 0.0088 & 0.0047 & 0.0117 & 0.002 & 0.0091 & 0.0058 & 0 \\\\\n",
       "\t30 & 0.0189 & 0.0308 & 0.0197 & 0.0622 & 0.008 & 0.0789 & 0.144 & 0.1451 & 0.1789 & 0.2522 & 0.2607 & 0.371 & 0.3906 & 0.2672 & 0.2716 & 0.4183 & 0.6988 & 0.5733 & 0.2226 & 0.2631 & 0.7473 & 0.7263 & 0.3393 & 0.2824 & 0.6053 & 0.5897 & 0.4967 & 0.8616 & 0.8339 & 0.4084 & 0.2268 & 0.1745 & 0.0507 & 0.1588 & 0.304 & 0.1369 & 0.1605 & 0.2061 & 0.0734 & 0.0202 & 0.1638 & 0.1583 & 0.183 & 0.1886 & 0.1008 & 0.0663 & 0.0183 & 0.0404 & 0.0108 & 0.0143 & 0.0091 & 0.0038 & 0.0096 & 0.0142 & 0.019 & 0.014 & 0.0099 & 0.0092 & 0.0052 & 0.0075 & 0 \\\\\n",
       "\t$\\dots$ & $\\dots$ & $\\dots$ & $\\dots$ & $\\dots$ & $\\dots$ & $\\dots$ & $\\dots$ & $\\dots$ & $\\dots$ & $\\dots$ & $\\dots$ & $\\dots$ & $\\dots$ & $\\dots$ & $\\dots$ & $\\dots$ & $\\dots$ & $\\dots$ & $\\dots$ & $\\dots$ & $\\dots$ & $\\dots$ & $\\dots$ & $\\dots$ & $\\dots$ & $\\dots$ & $\\dots$ & $\\dots$ & $\\dots$ & $\\dots$ & $\\dots$ & $\\dots$ & $\\dots$ & $\\dots$ & $\\dots$ & $\\dots$ & $\\dots$ & $\\dots$ & $\\dots$ & $\\dots$ & $\\dots$ & $\\dots$ & $\\dots$ & $\\dots$ & $\\dots$ & $\\dots$ & $\\dots$ & $\\dots$ & $\\dots$ & $\\dots$ & $\\dots$ & $\\dots$ & $\\dots$ & $\\dots$ & $\\dots$ & $\\dots$ & $\\dots$ & $\\dots$ & $\\dots$ & $\\dots$ & $\\dots$ \\\\\n",
       "\\end{tabular}\n"
      ],
      "text/plain": [
       "208×61 typename(DataFrame)\n",
       "│ Row │ Feature1 │ Feature2 │ Feature3 │ Feature4 │ Feature5 │ Feature6 │ Feature7 │ Feature8 │ Feature9 │ Feature10 │ Feature11 │ Feature12 │ Feature13 │ Feature14 │ Feature15 │ Feature16 │ Feature17 │ Feature18 │ Feature19 │ Feature20 │ Feature21 │ Feature22 │ Feature23 │ Feature24 │ Feature25 │ Feature26 │ Feature27 │ Feature28 │ Feature29 │ Feature30 │ Feature31 │ Feature32 │ Feature33 │ Feature34 │ Feature35 │ Feature36 │ Feature37 │ Feature38 │ Feature39 │ Feature40 │ Feature41 │ Feature42 │ Feature43 │ Feature44 │ Feature45 │ Feature46 │ Feature47 │ Feature48 │ Feature49 │ Feature50 │ Feature51 │ Feature52 │ Feature53 │ Feature54 │ Feature55 │ Feature56 │ Feature57 │ Feature58 │ Feature59 │ Feature60 │ Clase_rc │\n",
       "│     │ \u001b[90mFloat64\u001b[39m  │ \u001b[90mFloat64\u001b[39m  │ \u001b[90mFloat64\u001b[39m  │ \u001b[90mFloat64\u001b[39m  │ \u001b[90mFloat64\u001b[39m  │ \u001b[90mFloat64\u001b[39m  │ \u001b[90mFloat64\u001b[39m  │ \u001b[90mFloat64\u001b[39m  │ \u001b[90mFloat64\u001b[39m  │ \u001b[90mFloat64\u001b[39m   │ \u001b[90mFloat64\u001b[39m   │ \u001b[90mFloat64\u001b[39m   │ \u001b[90mFloat64\u001b[39m   │ \u001b[90mFloat64\u001b[39m   │ \u001b[90mFloat64\u001b[39m   │ \u001b[90mFloat64\u001b[39m   │ \u001b[90mFloat64\u001b[39m   │ \u001b[90mFloat64\u001b[39m   │ \u001b[90mFloat64\u001b[39m   │ \u001b[90mFloat64\u001b[39m   │ \u001b[90mFloat64\u001b[39m   │ \u001b[90mFloat64\u001b[39m   │ \u001b[90mFloat64\u001b[39m   │ \u001b[90mFloat64\u001b[39m   │ \u001b[90mFloat64\u001b[39m   │ \u001b[90mFloat64\u001b[39m   │ \u001b[90mFloat64\u001b[39m   │ \u001b[90mFloat64\u001b[39m   │ \u001b[90mFloat64\u001b[39m   │ \u001b[90mFloat64\u001b[39m   │ \u001b[90mFloat64\u001b[39m   │ \u001b[90mFloat64\u001b[39m   │ \u001b[90mFloat64\u001b[39m   │ \u001b[90mFloat64\u001b[39m   │ \u001b[90mFloat64\u001b[39m   │ \u001b[90mFloat64\u001b[39m   │ \u001b[90mFloat64\u001b[39m   │ \u001b[90mFloat64\u001b[39m   │ \u001b[90mFloat64\u001b[39m   │ \u001b[90mFloat64\u001b[39m   │ \u001b[90mFloat64\u001b[39m   │ \u001b[90mFloat64\u001b[39m   │ \u001b[90mFloat64\u001b[39m   │ \u001b[90mFloat64\u001b[39m   │ \u001b[90mFloat64\u001b[39m   │ \u001b[90mFloat64\u001b[39m   │ \u001b[90mFloat64\u001b[39m   │ \u001b[90mFloat64\u001b[39m   │ \u001b[90mFloat64\u001b[39m   │ \u001b[90mFloat64\u001b[39m   │ \u001b[90mFloat64\u001b[39m   │ \u001b[90mFloat64\u001b[39m   │ \u001b[90mFloat64\u001b[39m   │ \u001b[90mFloat64\u001b[39m   │ \u001b[90mFloat64\u001b[39m   │ \u001b[90mFloat64\u001b[39m   │ \u001b[90mFloat64\u001b[39m   │ \u001b[90mFloat64\u001b[39m   │ \u001b[90mFloat64\u001b[39m   │ \u001b[90mFloat64\u001b[39m   │ \u001b[90mInt64\u001b[39m    │\n",
       "├─────┼──────────┼──────────┼──────────┼──────────┼──────────┼──────────┼──────────┼──────────┼──────────┼───────────┼───────────┼───────────┼───────────┼───────────┼───────────┼───────────┼───────────┼───────────┼───────────┼───────────┼───────────┼───────────┼───────────┼───────────┼───────────┼───────────┼───────────┼───────────┼───────────┼───────────┼───────────┼───────────┼───────────┼───────────┼───────────┼───────────┼───────────┼───────────┼───────────┼───────────┼───────────┼───────────┼───────────┼───────────┼───────────┼───────────┼───────────┼───────────┼───────────┼───────────┼───────────┼───────────┼───────────┼───────────┼───────────┼───────────┼───────────┼───────────┼───────────┼───────────┼──────────┤\n",
       "│ 1   │ 0.02     │ 0.0371   │ 0.0428   │ 0.0207   │ 0.0954   │ 0.0986   │ 0.1539   │ 0.1601   │ 0.3109   │ 0.2111    │ 0.1609    │ 0.1582    │ 0.2238    │ 0.0645    │ 0.066     │ 0.2273    │ 0.31      │ 0.2999    │ 0.5078    │ 0.4797    │ 0.5783    │ 0.5071    │ 0.4328    │ 0.555     │ 0.6711    │ 0.6415    │ 0.7104    │ 0.808     │ 0.6791    │ 0.3857    │ 0.1307    │ 0.2604    │ 0.5121    │ 0.7547    │ 0.8537    │ 0.8507    │ 0.6692    │ 0.6097    │ 0.4943    │ 0.2744    │ 0.051     │ 0.2834    │ 0.2825    │ 0.4256    │ 0.2641    │ 0.1386    │ 0.1051    │ 0.1343    │ 0.0383    │ 0.0324    │ 0.0232    │ 0.0027    │ 0.0065    │ 0.0159    │ 0.0072    │ 0.0167    │ 0.018     │ 0.0084    │ 0.009     │ 0.0032    │ 0        │\n",
       "│ 2   │ 0.0453   │ 0.0523   │ 0.0843   │ 0.0689   │ 0.1183   │ 0.2583   │ 0.2156   │ 0.3481   │ 0.3337   │ 0.2872    │ 0.4918    │ 0.6552    │ 0.6919    │ 0.7797    │ 0.7464    │ 0.9444    │ 1.0       │ 0.8874    │ 0.8024    │ 0.7818    │ 0.5212    │ 0.4052    │ 0.3957    │ 0.3914    │ 0.325     │ 0.32      │ 0.3271    │ 0.2767    │ 0.4423    │ 0.2028    │ 0.3788    │ 0.2947    │ 0.1984    │ 0.2341    │ 0.1306    │ 0.4182    │ 0.3835    │ 0.1057    │ 0.184     │ 0.197     │ 0.1674    │ 0.0583    │ 0.1401    │ 0.1628    │ 0.0621    │ 0.0203    │ 0.053     │ 0.0742    │ 0.0409    │ 0.0061    │ 0.0125    │ 0.0084    │ 0.0089    │ 0.0048    │ 0.0094    │ 0.0191    │ 0.014     │ 0.0049    │ 0.0052    │ 0.0044    │ 0        │\n",
       "│ 3   │ 0.0262   │ 0.0582   │ 0.1099   │ 0.1083   │ 0.0974   │ 0.228    │ 0.2431   │ 0.3771   │ 0.5598   │ 0.6194    │ 0.6333    │ 0.706     │ 0.5544    │ 0.532     │ 0.6479    │ 0.6931    │ 0.6759    │ 0.7551    │ 0.8929    │ 0.8619    │ 0.7974    │ 0.6737    │ 0.4293    │ 0.3648    │ 0.5331    │ 0.2413    │ 0.507     │ 0.8533    │ 0.6036    │ 0.8514    │ 0.8512    │ 0.5045    │ 0.1862    │ 0.2709    │ 0.4232    │ 0.3043    │ 0.6116    │ 0.6756    │ 0.5375    │ 0.4719    │ 0.4647    │ 0.2587    │ 0.2129    │ 0.2222    │ 0.2111    │ 0.0176    │ 0.1348    │ 0.0744    │ 0.013     │ 0.0106    │ 0.0033    │ 0.0232    │ 0.0166    │ 0.0095    │ 0.018     │ 0.0244    │ 0.0316    │ 0.0164    │ 0.0095    │ 0.0078    │ 0        │\n",
       "│ 4   │ 0.01     │ 0.0171   │ 0.0623   │ 0.0205   │ 0.0205   │ 0.0368   │ 0.1098   │ 0.1276   │ 0.0598   │ 0.1264    │ 0.0881    │ 0.1992    │ 0.0184    │ 0.2261    │ 0.1729    │ 0.2131    │ 0.0693    │ 0.2281    │ 0.406     │ 0.3973    │ 0.2741    │ 0.369     │ 0.5556    │ 0.4846    │ 0.314     │ 0.5334    │ 0.5256    │ 0.252     │ 0.209     │ 0.3559    │ 0.626     │ 0.734     │ 0.612     │ 0.3497    │ 0.3953    │ 0.3012    │ 0.5408    │ 0.8814    │ 0.9857    │ 0.9167    │ 0.6121    │ 0.5006    │ 0.321     │ 0.3202    │ 0.4295    │ 0.3654    │ 0.2655    │ 0.1576    │ 0.0681    │ 0.0294    │ 0.0241    │ 0.0121    │ 0.0036    │ 0.015     │ 0.0085    │ 0.0073    │ 0.005     │ 0.0044    │ 0.004     │ 0.0117    │ 0        │\n",
       "│ 5   │ 0.0762   │ 0.0666   │ 0.0481   │ 0.0394   │ 0.059    │ 0.0649   │ 0.1209   │ 0.2467   │ 0.3564   │ 0.4459    │ 0.4152    │ 0.3952    │ 0.4256    │ 0.4135    │ 0.4528    │ 0.5326    │ 0.7306    │ 0.6193    │ 0.2032    │ 0.4636    │ 0.4148    │ 0.4292    │ 0.573     │ 0.5399    │ 0.3161    │ 0.2285    │ 0.6995    │ 1.0       │ 0.7262    │ 0.4724    │ 0.5103    │ 0.5459    │ 0.2881    │ 0.0981    │ 0.1951    │ 0.4181    │ 0.4604    │ 0.3217    │ 0.2828    │ 0.243     │ 0.1979    │ 0.2444    │ 0.1847    │ 0.0841    │ 0.0692    │ 0.0528    │ 0.0357    │ 0.0085    │ 0.023     │ 0.0046    │ 0.0156    │ 0.0031    │ 0.0054    │ 0.0105    │ 0.011     │ 0.0015    │ 0.0072    │ 0.0048    │ 0.0107    │ 0.0094    │ 0        │\n",
       "│ 6   │ 0.0286   │ 0.0453   │ 0.0277   │ 0.0174   │ 0.0384   │ 0.099    │ 0.1201   │ 0.1833   │ 0.2105   │ 0.3039    │ 0.2988    │ 0.425     │ 0.6343    │ 0.8198    │ 1.0       │ 0.9988    │ 0.9508    │ 0.9025    │ 0.7234    │ 0.5122    │ 0.2074    │ 0.3985    │ 0.589     │ 0.2872    │ 0.2043    │ 0.5782    │ 0.5389    │ 0.375     │ 0.3411    │ 0.5067    │ 0.558     │ 0.4778    │ 0.3299    │ 0.2198    │ 0.1407    │ 0.2856    │ 0.3807    │ 0.4158    │ 0.4054    │ 0.3296    │ 0.2707    │ 0.265     │ 0.0723    │ 0.1238    │ 0.1192    │ 0.1089    │ 0.0623    │ 0.0494    │ 0.0264    │ 0.0081    │ 0.0104    │ 0.0045    │ 0.0014    │ 0.0038    │ 0.0013    │ 0.0089    │ 0.0057    │ 0.0027    │ 0.0051    │ 0.0062    │ 0        │\n",
       "│ 7   │ 0.0317   │ 0.0956   │ 0.1321   │ 0.1408   │ 0.1674   │ 0.171    │ 0.0731   │ 0.1401   │ 0.2083   │ 0.3513    │ 0.1786    │ 0.0658    │ 0.0513    │ 0.3752    │ 0.5419    │ 0.544     │ 0.515     │ 0.4262    │ 0.2024    │ 0.4233    │ 0.7723    │ 0.9735    │ 0.939     │ 0.5559    │ 0.5268    │ 0.6826    │ 0.5713    │ 0.5429    │ 0.2177    │ 0.2149    │ 0.5811    │ 0.6323    │ 0.2965    │ 0.1873    │ 0.2969    │ 0.5163    │ 0.6153    │ 0.4283    │ 0.5479    │ 0.6133    │ 0.5017    │ 0.2377    │ 0.1957    │ 0.1749    │ 0.1304    │ 0.0597    │ 0.1124    │ 0.1047    │ 0.0507    │ 0.0159    │ 0.0195    │ 0.0201    │ 0.0248    │ 0.0131    │ 0.007     │ 0.0138    │ 0.0092    │ 0.0143    │ 0.0036    │ 0.0103    │ 0        │\n",
       "│ 8   │ 0.0519   │ 0.0548   │ 0.0842   │ 0.0319   │ 0.1158   │ 0.0922   │ 0.1027   │ 0.0613   │ 0.1465   │ 0.2838    │ 0.2802    │ 0.3086    │ 0.2657    │ 0.3801    │ 0.5626    │ 0.4376    │ 0.2617    │ 0.1199    │ 0.6676    │ 0.9402    │ 0.7832    │ 0.5352    │ 0.6809    │ 0.9174    │ 0.7613    │ 0.822     │ 0.8872    │ 0.6091    │ 0.2967    │ 0.1103    │ 0.1318    │ 0.0624    │ 0.099     │ 0.4006    │ 0.3666    │ 0.105     │ 0.1915    │ 0.393     │ 0.4288    │ 0.2546    │ 0.1151    │ 0.2196    │ 0.1879    │ 0.1437    │ 0.2146    │ 0.236     │ 0.1125    │ 0.0254    │ 0.0285    │ 0.0178    │ 0.0052    │ 0.0081    │ 0.012     │ 0.0045    │ 0.0121    │ 0.0097    │ 0.0085    │ 0.0047    │ 0.0048    │ 0.0053    │ 0        │\n",
       "│ 9   │ 0.0223   │ 0.0375   │ 0.0484   │ 0.0475   │ 0.0647   │ 0.0591   │ 0.0753   │ 0.0098   │ 0.0684   │ 0.1487    │ 0.1156    │ 0.1654    │ 0.3833    │ 0.3598    │ 0.1713    │ 0.1136    │ 0.0349    │ 0.3796    │ 0.7401    │ 0.9925    │ 0.9802    │ 0.889     │ 0.6712    │ 0.4286    │ 0.3374    │ 0.7366    │ 0.9611    │ 0.7353    │ 0.4856    │ 0.1594    │ 0.3007    │ 0.4096    │ 0.317     │ 0.3305    │ 0.3408    │ 0.2186    │ 0.2463    │ 0.2726    │ 0.168     │ 0.2792    │ 0.2558    │ 0.174     │ 0.2121    │ 0.1099    │ 0.0985    │ 0.1271    │ 0.1459    │ 0.1164    │ 0.0777    │ 0.0439    │ 0.0061    │ 0.0145    │ 0.0128    │ 0.0145    │ 0.0058    │ 0.0049    │ 0.0065    │ 0.0093    │ 0.0059    │ 0.0022    │ 0        │\n",
       "│ 10  │ 0.0164   │ 0.0173   │ 0.0347   │ 0.007    │ 0.0187   │ 0.0671   │ 0.1056   │ 0.0697   │ 0.0962   │ 0.0251    │ 0.0801    │ 0.1056    │ 0.1266    │ 0.089     │ 0.0198    │ 0.1133    │ 0.2826    │ 0.3234    │ 0.3238    │ 0.4333    │ 0.6068    │ 0.7652    │ 0.9203    │ 0.9719    │ 0.9207    │ 0.7545    │ 0.8289    │ 0.8907    │ 0.7309    │ 0.6896    │ 0.5829    │ 0.4935    │ 0.3101    │ 0.0306    │ 0.0244    │ 0.1108    │ 0.1594    │ 0.1371    │ 0.0696    │ 0.0452    │ 0.062     │ 0.1421    │ 0.1597    │ 0.1384    │ 0.0372    │ 0.0688    │ 0.0867    │ 0.0513    │ 0.0092    │ 0.0198    │ 0.0118    │ 0.009     │ 0.0223    │ 0.0179    │ 0.0084    │ 0.0068    │ 0.0032    │ 0.0035    │ 0.0056    │ 0.004     │ 0        │\n",
       "⋮\n",
       "│ 198 │ 0.0366   │ 0.0421   │ 0.0504   │ 0.025    │ 0.0596   │ 0.0252   │ 0.0958   │ 0.0991   │ 0.1419   │ 0.1847    │ 0.2222    │ 0.2648    │ 0.2508    │ 0.2291    │ 0.1555    │ 0.1863    │ 0.2387    │ 0.3345    │ 0.5233    │ 0.6684    │ 0.7766    │ 0.7928    │ 0.794     │ 0.9129    │ 0.9498    │ 0.9835    │ 1.0       │ 0.9471    │ 0.8237    │ 0.6252    │ 0.4181    │ 0.3209    │ 0.2658    │ 0.2196    │ 0.1588    │ 0.0561    │ 0.0948    │ 0.17      │ 0.1215    │ 0.1282    │ 0.0386    │ 0.1329    │ 0.2331    │ 0.2468    │ 0.196     │ 0.1985    │ 0.157     │ 0.0921    │ 0.0549    │ 0.0194    │ 0.0166    │ 0.0132    │ 0.0027    │ 0.0022    │ 0.0059    │ 0.0016    │ 0.0025    │ 0.0017    │ 0.0027    │ 0.0027    │ 1        │\n",
       "│ 199 │ 0.0238   │ 0.0318   │ 0.0422   │ 0.0399   │ 0.0788   │ 0.0766   │ 0.0881   │ 0.1143   │ 0.1594   │ 0.2048    │ 0.2652    │ 0.31      │ 0.2381    │ 0.1918    │ 0.143     │ 0.1735    │ 0.1781    │ 0.2852    │ 0.5036    │ 0.6166    │ 0.7616    │ 0.8125    │ 0.7793    │ 0.8788    │ 0.8813    │ 0.947     │ 1.0       │ 0.9739    │ 0.8446    │ 0.6151    │ 0.4302    │ 0.3165    │ 0.2869    │ 0.2017    │ 0.1206    │ 0.0271    │ 0.058     │ 0.1262    │ 0.1072    │ 0.1082    │ 0.036     │ 0.1197    │ 0.2061    │ 0.2054    │ 0.1878    │ 0.2047    │ 0.1716    │ 0.1069    │ 0.0477    │ 0.017     │ 0.0186    │ 0.0096    │ 0.0071    │ 0.0084    │ 0.0038    │ 0.0026    │ 0.0028    │ 0.0013    │ 0.0035    │ 0.006     │ 1        │\n",
       "│ 200 │ 0.0116   │ 0.0744   │ 0.0367   │ 0.0225   │ 0.0076   │ 0.0545   │ 0.111    │ 0.1069   │ 0.1708   │ 0.2271    │ 0.3171    │ 0.2882    │ 0.2657    │ 0.2307    │ 0.1889    │ 0.1791    │ 0.2298    │ 0.3715    │ 0.6223    │ 0.726     │ 0.7934    │ 0.8045    │ 0.8067    │ 0.9173    │ 0.9327    │ 0.9562    │ 1.0       │ 0.9818    │ 0.8684    │ 0.6381    │ 0.3997    │ 0.3242    │ 0.2835    │ 0.2413    │ 0.2321    │ 0.126     │ 0.0693    │ 0.0701    │ 0.1439    │ 0.1475    │ 0.0438    │ 0.0469    │ 0.1476    │ 0.1742    │ 0.1555    │ 0.1651    │ 0.1181    │ 0.072     │ 0.0321    │ 0.0056    │ 0.0202    │ 0.0141    │ 0.0103    │ 0.01      │ 0.0034    │ 0.0026    │ 0.0037    │ 0.0044    │ 0.0057    │ 0.0035    │ 1        │\n",
       "│ 201 │ 0.0131   │ 0.0387   │ 0.0329   │ 0.0078   │ 0.0721   │ 0.1341   │ 0.1626   │ 0.1902   │ 0.261    │ 0.3193    │ 0.3468    │ 0.3738    │ 0.3055    │ 0.1926    │ 0.1385    │ 0.2122    │ 0.2758    │ 0.4576    │ 0.6487    │ 0.7154    │ 0.801     │ 0.7924    │ 0.8793    │ 1.0       │ 0.9865    │ 0.9474    │ 0.9474    │ 0.9315    │ 0.8326    │ 0.6213    │ 0.3772    │ 0.2822    │ 0.2042    │ 0.219     │ 0.2223    │ 0.1327    │ 0.0521    │ 0.0618    │ 0.1416    │ 0.146     │ 0.0846    │ 0.1055    │ 0.1639    │ 0.1916    │ 0.2085    │ 0.2335    │ 0.1964    │ 0.13      │ 0.0633    │ 0.0183    │ 0.0137    │ 0.015     │ 0.0076    │ 0.0032    │ 0.0037    │ 0.0071    │ 0.004     │ 0.0009    │ 0.0015    │ 0.0085    │ 1        │\n",
       "│ 202 │ 0.0335   │ 0.0258   │ 0.0398   │ 0.057    │ 0.0529   │ 0.1091   │ 0.1709   │ 0.1684   │ 0.1865   │ 0.266     │ 0.3188    │ 0.3553    │ 0.3116    │ 0.1965    │ 0.178     │ 0.2794    │ 0.287     │ 0.3969    │ 0.5599    │ 0.6936    │ 0.7969    │ 0.7452    │ 0.8203    │ 0.9261    │ 0.881     │ 0.8814    │ 0.9301    │ 0.9955    │ 0.8576    │ 0.6069    │ 0.3934    │ 0.2464    │ 0.1645    │ 0.114     │ 0.0956    │ 0.008     │ 0.0702    │ 0.0936    │ 0.0894    │ 0.1127    │ 0.0873    │ 0.102     │ 0.1964    │ 0.2256    │ 0.1814    │ 0.2012    │ 0.1688    │ 0.1037    │ 0.0501    │ 0.0136    │ 0.013     │ 0.012     │ 0.0039    │ 0.0053    │ 0.0062    │ 0.0046    │ 0.0045    │ 0.0022    │ 0.0005    │ 0.0031    │ 1        │\n",
       "│ 203 │ 0.0272   │ 0.0378   │ 0.0488   │ 0.0848   │ 0.1127   │ 0.1103   │ 0.1349   │ 0.2337   │ 0.3113   │ 0.3997    │ 0.3941    │ 0.3309    │ 0.2926    │ 0.176     │ 0.1739    │ 0.2043    │ 0.2088    │ 0.2678    │ 0.2434    │ 0.1839    │ 0.2802    │ 0.6172    │ 0.8015    │ 0.8313    │ 0.844     │ 0.8494    │ 0.9168    │ 1.0       │ 0.7896    │ 0.5371    │ 0.6472    │ 0.6505    │ 0.4959    │ 0.2175    │ 0.099     │ 0.0434    │ 0.1708    │ 0.1979    │ 0.188     │ 0.1108    │ 0.1702    │ 0.0585    │ 0.0638    │ 0.1391    │ 0.0638    │ 0.0581    │ 0.0641    │ 0.1044    │ 0.0732    │ 0.0275    │ 0.0146    │ 0.0091    │ 0.0045    │ 0.0043    │ 0.0043    │ 0.0098    │ 0.0054    │ 0.0051    │ 0.0065    │ 0.0103    │ 1        │\n",
       "│ 204 │ 0.0187   │ 0.0346   │ 0.0168   │ 0.0177   │ 0.0393   │ 0.163    │ 0.2028   │ 0.1694   │ 0.2328   │ 0.2684    │ 0.3108    │ 0.2933    │ 0.2275    │ 0.0994    │ 0.1801    │ 0.22      │ 0.2732    │ 0.2862    │ 0.2034    │ 0.174     │ 0.413     │ 0.6879    │ 0.812     │ 0.8453    │ 0.8919    │ 0.93      │ 0.9987    │ 1.0       │ 0.8104    │ 0.6199    │ 0.6041    │ 0.5547    │ 0.416     │ 0.1472    │ 0.0849    │ 0.0608    │ 0.0969    │ 0.1411    │ 0.1676    │ 0.12      │ 0.1201    │ 0.1036    │ 0.1977    │ 0.1339    │ 0.0902    │ 0.1085    │ 0.1521    │ 0.1363    │ 0.0858    │ 0.029     │ 0.0203    │ 0.0116    │ 0.0098    │ 0.0199    │ 0.0033    │ 0.0101    │ 0.0065    │ 0.0115    │ 0.0193    │ 0.0157    │ 1        │\n",
       "│ 205 │ 0.0323   │ 0.0101   │ 0.0298   │ 0.0564   │ 0.076    │ 0.0958   │ 0.099    │ 0.1018   │ 0.103    │ 0.2154    │ 0.3085    │ 0.3425    │ 0.299     │ 0.1402    │ 0.1235    │ 0.1534    │ 0.1901    │ 0.2429    │ 0.212     │ 0.2395    │ 0.3272    │ 0.5949    │ 0.8302    │ 0.9045    │ 0.9888    │ 0.9912    │ 0.9448    │ 1.0       │ 0.9092    │ 0.7412    │ 0.7691    │ 0.7117    │ 0.5304    │ 0.2131    │ 0.0928    │ 0.1297    │ 0.1159    │ 0.1226    │ 0.1768    │ 0.0345    │ 0.1562    │ 0.0824    │ 0.1149    │ 0.1694    │ 0.0954    │ 0.008     │ 0.079     │ 0.1255    │ 0.0647    │ 0.0179    │ 0.0051    │ 0.0061    │ 0.0093    │ 0.0135    │ 0.0063    │ 0.0063    │ 0.0034    │ 0.0032    │ 0.0062    │ 0.0067    │ 1        │\n",
       "│ 206 │ 0.0522   │ 0.0437   │ 0.018    │ 0.0292   │ 0.0351   │ 0.1171   │ 0.1257   │ 0.1178   │ 0.1258   │ 0.2529    │ 0.2716    │ 0.2374    │ 0.1878    │ 0.0983    │ 0.0683    │ 0.1503    │ 0.1723    │ 0.2339    │ 0.1962    │ 0.1395    │ 0.3164    │ 0.5888    │ 0.7631    │ 0.8473    │ 0.9424    │ 0.9986    │ 0.9699    │ 1.0       │ 0.863     │ 0.6979    │ 0.7717    │ 0.7305    │ 0.5197    │ 0.1786    │ 0.1098    │ 0.1446    │ 0.1066    │ 0.144     │ 0.1929    │ 0.0325    │ 0.149     │ 0.0328    │ 0.0537    │ 0.1309    │ 0.091     │ 0.0757    │ 0.1059    │ 0.1005    │ 0.0535    │ 0.0235    │ 0.0155    │ 0.016     │ 0.0029    │ 0.0051    │ 0.0062    │ 0.0089    │ 0.014     │ 0.0138    │ 0.0077    │ 0.0031    │ 1        │\n",
       "│ 207 │ 0.0303   │ 0.0353   │ 0.049    │ 0.0608   │ 0.0167   │ 0.1354   │ 0.1465   │ 0.1123   │ 0.1945   │ 0.2354    │ 0.2898    │ 0.2812    │ 0.1578    │ 0.0273    │ 0.0673    │ 0.1444    │ 0.207     │ 0.2645    │ 0.2828    │ 0.4293    │ 0.5685    │ 0.699     │ 0.7246    │ 0.7622    │ 0.9242    │ 1.0       │ 0.9979    │ 0.8297    │ 0.7032    │ 0.7141    │ 0.6893    │ 0.4961    │ 0.2584    │ 0.0969    │ 0.0776    │ 0.0364    │ 0.1572    │ 0.1823    │ 0.1349    │ 0.0849    │ 0.0492    │ 0.1367    │ 0.1552    │ 0.1548    │ 0.1319    │ 0.0985    │ 0.1258    │ 0.0954    │ 0.0489    │ 0.0241    │ 0.0042    │ 0.0086    │ 0.0046    │ 0.0126    │ 0.0036    │ 0.0035    │ 0.0034    │ 0.0079    │ 0.0036    │ 0.0048    │ 1        │\n",
       "│ 208 │ 0.026    │ 0.0363   │ 0.0136   │ 0.0272   │ 0.0214   │ 0.0338   │ 0.0655   │ 0.14     │ 0.1843   │ 0.2354    │ 0.272     │ 0.2442    │ 0.1665    │ 0.0336    │ 0.1302    │ 0.1708    │ 0.2177    │ 0.3175    │ 0.3714    │ 0.4552    │ 0.57      │ 0.7397    │ 0.8062    │ 0.8837    │ 0.9432    │ 1.0       │ 0.9375    │ 0.7603    │ 0.7123    │ 0.8358    │ 0.7622    │ 0.4567    │ 0.1715    │ 0.1549    │ 0.1641    │ 0.1869    │ 0.2655    │ 0.1713    │ 0.0959    │ 0.0768    │ 0.0847    │ 0.2076    │ 0.2505    │ 0.1862    │ 0.1439    │ 0.147     │ 0.0991    │ 0.0041    │ 0.0154    │ 0.0116    │ 0.0181    │ 0.0146    │ 0.0129    │ 0.0047    │ 0.0039    │ 0.0061    │ 0.004     │ 0.0036    │ 0.0061    │ 0.0115    │ 1        │"
      ]
     },
     "execution_count": 166,
     "metadata": {},
     "output_type": "execute_result"
    }
   ],
   "source": [
    "#Create a new column\n",
    "f(b) =  (b==\"M\") ? 1 : 0\n",
    "df.Clase_rc = f.(df.Clase)\n",
    "## Remove columns \n",
    "df = select!(df, Not(:Clase))"
   ]
  },
  {
   "cell_type": "markdown",
   "metadata": {},
   "source": [
    "Usamos la función smote, que nos ayuda balancear las clases"
   ]
  },
  {
   "cell_type": "code",
   "execution_count": 167,
   "metadata": {},
   "outputs": [],
   "source": [
    "X2, y2 = smote(df[!,[:Feature1, :Feature2, :Feature3, :Feature4, :Feature5, :Feature6, :Feature7, :Feature8, :Feature9, :Feature10, \n",
    "                    :Feature11, :Feature12, :Feature13, :Feature14, :Feature15, :Feature16, :Feature17, :Feature18, :Feature19, :Feature20, \n",
    "                    :Feature21, :Feature22, :Feature23, :Feature24, :Feature25, :Feature26, :Feature27, :Feature28, :Feature29, :Feature30, \n",
    "                    :Feature31, :Feature32, :Feature33, :Feature34, :Feature35, :Feature36, :Feature37, :Feature38, :Feature39, :Feature40, \n",
    "                    :Feature41, :Feature42, :Feature43, :Feature44, :Feature45, :Feature46, :Feature47, :Feature48, :Feature49, :Feature50, \n",
    "                    :Feature51, :Feature52, :Feature53, :Feature54, :Feature55, :Feature56, :Feature57, :Feature58, :Feature59, :Feature60\n",
    "                   ]],\n",
    "    df.Clase_rc, k = 5, pct_under = 150, pct_over = 200)\n",
    "\n",
    "df_balanced = X2\n",
    "df_balanced.Clase = y2;\n",
    "\n",
    "df1 = df_balanced;\n"
   ]
  },
  {
   "cell_type": "code",
   "execution_count": 168,
   "metadata": {},
   "outputs": [
    {
     "data": {
      "text/plain": [
       "Dict{Int64, Int64} with 2 entries:\n",
       "  0 => 333\n",
       "  1 => 333"
      ]
     },
     "execution_count": 168,
     "metadata": {},
     "output_type": "execute_result"
    }
   ],
   "source": [
    "\n",
    "# Count the classes\n",
    "countmap(df1.Clase)"
   ]
  },
  {
   "cell_type": "markdown",
   "metadata": {},
   "source": [
    "#### Creamos una función que nos permite dividor nuestra muestra en 2 conjuntos: 1) Entrenamiento y 2) Prueba. "
   ]
  },
  {
   "cell_type": "code",
   "execution_count": 169,
   "metadata": {},
   "outputs": [
    {
     "data": {
      "text/plain": [
       "perclass_splits (generic function with 1 method)"
      ]
     },
     "execution_count": 169,
     "metadata": {},
     "output_type": "execute_result"
    }
   ],
   "source": [
    "function perclass_splits(y,at)\n",
    "    uids = unique(y)\n",
    "    keepids = []\n",
    "    for ui in uids\n",
    "        curids = findall(y.==ui)\n",
    "        rowids = randsubseq(curids, at) \n",
    "        push!(keepids,rowids...)\n",
    "    end\n",
    "    return keepids\n",
    "end"
   ]
  },
  {
   "cell_type": "markdown",
   "metadata": {},
   "source": [
    "##### Cambiamos las categórias de la variable Clase de \"R\" y \"M\" a unos y ceros"
   ]
  },
  {
   "cell_type": "code",
   "execution_count": 170,
   "metadata": {},
   "outputs": [
    {
     "data": {
      "text/plain": [
       "666×60 Matrix{Float64}:\n",
       " 0.0409     0.0421     0.0573     0.013      0.0183     0.1019     0.1054     0.107      0.2302    0.2259    0.2373    0.3323    0.3827    0.484     0.6812    0.7555    0.9522    0.9826    0.8871    0.8268    0.7561    0.8217    0.6967    0.6444    0.6948    0.8014    0.6053    0.6084    0.8877    0.8557    0.5563    0.2897    0.3638    0.4786    0.2908     0.0899    0.2043     0.1707     0.0407    0.1286    0.1581     0.2191     0.1701    0.0971     0.2217     0.2732     0.1874     0.1062     0.0665     0.0405     0.0113     0.0028     0.0036      0.0105      0.012       0.0087      0.0061      0.0061      0.003       0.0078\n",
       " 0.0187     0.0346     0.0168     0.0177     0.0393     0.163      0.2028     0.1694     0.2328    0.2684    0.3108    0.2933    0.2275    0.0994    0.1801    0.22      0.2732    0.2862    0.2034    0.174     0.413     0.6879    0.812     0.8453    0.8919    0.93      0.9987    1.0       0.8104    0.6199    0.6041    0.5547    0.416     0.1472    0.0849     0.0608    0.0969     0.1411     0.1676    0.12      0.1201     0.1036     0.1977    0.1339     0.0902     0.1085     0.1521     0.1363     0.0858     0.029      0.0203     0.0116     0.0098      0.0199      0.0033      0.0101      0.0065      0.0115      0.0193      0.0157\n",
       " 0.0239     0.0189     0.0466     0.044      0.0657     0.0742     0.138      0.1099     0.1384    0.1376    0.0938    0.0259    0.1499    0.2851    0.5743    0.8278    0.8669    0.8131    0.9045    0.9046    1.0       0.9976    0.9872    0.9761    0.9009    0.9724    0.9675    0.7633    0.4434    0.3822    0.4727    0.4007    0.3381    0.3172    0.2222     0.0733    0.2692     0.1888     0.0712    0.1062    0.0694     0.03       0.0893    0.1459     0.1348     0.0391     0.0546     0.0469     0.0201     0.0095     0.0155     0.0091     0.0151      0.008       0.0018      0.0078      0.0045      0.0026      0.0036      0.0024\n",
       " 0.0374     0.0586     0.0628     0.0534     0.0255     0.1422     0.2072     0.2734     0.307     0.2597    0.3483    0.3999    0.4574    0.595     0.7924    0.8272    0.8087    0.8977    0.9828    0.8982    0.889     0.9367    0.9122    0.7936    0.6718    0.6318    0.4865    0.3388    0.4832    0.3822    0.3075    0.1267    0.0743    0.151     0.1906     0.1817    0.1709     0.0946     0.2829    0.3006    0.1602     0.1483     0.2875    0.2047     0.1064     0.1395     0.1065     0.0527     0.0395     0.0183     0.0353     0.0118     0.0063      0.0237      0.0032      0.0087      0.0124      0.0113      0.0098      0.0126\n",
       " 0.0303     0.0353     0.049      0.0608     0.0167     0.1354     0.1465     0.1123     0.1945    0.2354    0.2898    0.2812    0.1578    0.0273    0.0673    0.1444    0.207     0.2645    0.2828    0.4293    0.5685    0.699     0.7246    0.7622    0.9242    1.0       0.9979    0.8297    0.7032    0.7141    0.6893    0.4961    0.2584    0.0969    0.0776     0.0364    0.1572     0.1823     0.1349    0.0849    0.0492     0.1367     0.1552    0.1548     0.1319     0.0985     0.1258     0.0954     0.0489     0.0241     0.0042     0.0086     0.0046      0.0126      0.0036      0.0035      0.0034      0.0079      0.0036      0.0048\n",
       " 0.0099     0.0484     0.0299     0.0297     0.0652     0.1077     0.2363     0.2385     0.0075    0.1882    0.1456    0.1892    0.3176    0.134     0.2169    0.2458    0.2589    0.2786    0.2298    0.0656    0.1441    0.1179    0.1668    0.1783    0.2476    0.257     0.1036    0.5356    0.7124    0.6291    0.4756    0.6015    0.7208    0.6234    0.5725     0.7523    0.8712     0.9252     0.9709    0.9297    0.8995     0.7911     0.56      0.2838     0.4407     0.5507     0.4331     0.2905     0.1981     0.0779     0.0396     0.0173     0.0149      0.0115      0.0202      0.0139      0.0029      0.016       0.0106      0.0134\n",
       " 0.0378     0.0318     0.0423     0.035      0.1787     0.1635     0.0887     0.0817     0.1779    0.2053    0.3135    0.3118    0.3686    0.3885    0.585     0.7868    0.9739    1.0       0.9843    0.861     0.8443    0.9061    0.5847    0.4033    0.5946    0.6793    0.6389    0.5002    0.5578    0.4831    0.4729    0.3318    0.3969    0.3894    0.2314     0.1036    0.1312     0.0864     0.2569    0.3179    0.2649     0.2714     0.1713    0.0584     0.123      0.22       0.2198     0.1074     0.0423     0.0162     0.0093     0.0046     0.0044      0.0078      0.0102      0.0065      0.0061      0.0062      0.0043      0.0053\n",
       " 0.0312874  0.0576813  0.0663163  0.0367364  0.0936484  0.164155   0.121218   0.104087   0.133523  0.175093  0.213546  0.294831  0.340376  0.386107  0.437532  0.510151  0.630054  0.802849  0.930872  0.935882  0.940166  0.954119  0.846165  0.779833  0.695424  0.6009    0.541902  0.410984  0.361161  0.304544  0.235149  0.171135  0.346602  0.417184  0.340141   0.293139  0.377571   0.332536   0.366726  0.43147   0.364234   0.348158   0.24353   0.155255   0.104111   0.107746   0.0694657  0.0263488  0.0267759  0.0172536  0.0113892  0.0142283  0.0147638   0.0171976   0.00605002  0.00749217  0.00826511  0.00833141  0.00640425  0.00744578\n",
       " 0.0195     0.0213     0.0058     0.019      0.0319     0.0571     0.1004     0.0668     0.0691    0.0242    0.0728    0.0639    0.3002    0.3854    0.4767    0.4602    0.3175    0.416     0.6428    1.0       0.8631    0.5212    0.3156    0.5952    0.7732    0.6042    0.4375    0.5487    0.472     0.6235    0.3851    0.159     0.3891    0.5294    0.3504     0.448     0.4041     0.5031     0.6475    0.5493    0.3548     0.2028     0.1882    0.0845     0.1315     0.159      0.0562     0.0617     0.0343     0.037      0.0261     0.0157     0.0074      0.0271      0.0203      0.0089      0.0095      0.0095      0.0021      0.0053\n",
       " 0.0156915  0.0223261  0.0221642  0.0549359  0.0702519  0.107439   0.140981   0.0980737  0.133933  0.172978  0.242342  0.275374  0.296596  0.296972  0.274866  0.182478  0.206334  0.262565  0.295056  0.366753  0.417791  0.377462  0.475379  0.620146  0.738274  0.780667  0.87733   0.995387  0.94937   0.70752   0.602113  0.466798  0.384555  0.340466  0.207371   0.131313  0.162767   0.14655    0.204049  0.252461  0.235515   0.274335   0.138016  0.123839   0.168998   0.158624   0.17711    0.129309   0.0501398  0.0128479  0.0204547  0.0136739  0.00819485  0.00705685  0.00621926  0.00567477  0.00459403  0.00514274  0.00361112  0.00226282\n",
       " 0.0229     0.0369     0.004      0.0375     0.0455     0.1452     0.2211     0.1188     0.075     0.1631    0.2709    0.3358    0.4091    0.44      0.5485    0.7213    0.8137    0.9185    1.0       0.9418    0.9116    0.9349    0.7484    0.5146    0.4106    0.3443    0.6981    0.8713    0.9013    0.8014    0.438     0.1319    0.1709    0.2484    0.3044     0.2312    0.1338     0.2056     0.2474    0.279     0.161      0.0056     0.0351    0.1148     0.1331     0.0276     0.0763     0.0631     0.0309     0.024      0.0115     0.0064     0.0022      0.0122      0.0151      0.0056      0.0026      0.0029      0.0104      0.0163\n",
       " 0.0368     0.0403     0.0317     0.0293     0.082      0.1342     0.1161     0.0663     0.0155    0.0506    0.0906    0.2545    0.1464    0.1272    0.1223    0.1669    0.1424    0.1285    0.1857    0.1136    0.2069    0.0219    0.24      0.2547    0.024     0.1923    0.4753    0.7003    0.6825    0.6443    0.7063    0.5373    0.6601    0.8708    0.9518     0.9605    0.7712     0.6772     0.6431    0.672     0.6035     0.5155     0.3802    0.2278     0.1522     0.0801     0.0804     0.0752     0.0566     0.0175     0.0058     0.0091     0.016       0.016       0.0081      0.007       0.0135      0.0067      0.0078      0.0068\n",
       " 0.0211     0.0319     0.0415     0.0286     0.0121     0.0438     0.1299     0.139      0.0695    0.0568    0.0869    0.1935    0.1478    0.1871    0.1994    0.3283    0.6861    0.5814    0.25      0.1734    0.3363    0.5588    0.6592    0.7012    0.8099    0.8901    0.8745    0.7887    0.8725    0.9376    0.892     0.7508    0.6832    0.761     0.9017     1.0       0.9123     0.7388     0.5915    0.4057    0.3019     0.2331     0.2931    0.2298     0.2391     0.191      0.1096     0.03       0.0171     0.0383     0.0053     0.009      0.0042      0.0153      0.0106      0.002       0.0105      0.0049      0.007       0.008\n",
       " ⋮                                                      ⋮                                                    ⋮                                                 ⋮                                                 ⋮                                                 ⋮                                                 ⋮                                                  ⋮                                                   ⋮                                                     ⋮                                                      ⋮                                                         ⋮                                               \n",
       " 0.013      0.0006     0.0088     0.0456     0.0525     0.0778     0.0931     0.0941     0.1711    0.1483    0.1532    0.11      0.089     0.1236    0.1197    0.1145    0.2137    0.2838    0.364     0.543     0.6673    0.7979    0.9273    0.9027    0.9192    1.0       0.9821    0.9092    0.8184    0.6962    0.59      0.5447    0.5142    0.5389    0.5531     0.5318    0.4826     0.379      0.1831    0.175     0.1679     0.0674     0.0609    0.0375     0.0533     0.0278     0.0179     0.0114     0.0073     0.0116     0.0092     0.0078     0.0041      0.0013      0.0011      0.0045      0.0039      0.0022      0.0023      0.0016\n",
       " 0.0134     0.0172     0.0178     0.0363     0.0444     0.0744     0.08       0.0456     0.0368    0.125     0.2405    0.2325    0.2523    0.1472    0.0669    0.11      0.2353    0.3282    0.4416    0.5167    0.6508    0.7793    0.7978    0.7786    0.8587    0.9321    0.9454    0.8645    0.722     0.485     0.1357    0.2951    0.4715    0.6036    0.8083     0.987     0.88       0.6411     0.4276    0.2702    0.2642     0.3342     0.4335    0.4542     0.396      0.2525     0.1084     0.0372     0.0286     0.0099     0.0046     0.0094     0.0048      0.0047      0.0016      0.0008      0.0042      0.0024      0.0027      0.0041\n",
       " 0.0131     0.0068     0.0308     0.0311     0.0085     0.0767     0.0771     0.064      0.0726    0.0901    0.075     0.0844    0.1226    0.1619    0.2317    0.2934    0.3526    0.3657    0.3221    0.3093    0.4084    0.4285    0.4663    0.5956    0.6948    0.8386    0.8875    0.6404    0.3308    0.3425    0.492     0.4592    0.3034    0.4366    0.5175     0.5122    0.4746     0.4902     0.4603    0.446     0.4196     0.2873     0.2296    0.0949     0.0095     0.0527     0.0383     0.0107     0.0108     0.0077     0.0109     0.0062     0.0028      0.004       0.0075      0.0039      0.0053      0.0013      0.0052      0.0023\n",
       " 0.0453     0.0523     0.0843     0.0689     0.1183     0.2583     0.2156     0.3481     0.3337    0.2872    0.4918    0.6552    0.6919    0.7797    0.7464    0.9444    1.0       0.8874    0.8024    0.7818    0.5212    0.4052    0.3957    0.3914    0.325     0.32      0.3271    0.2767    0.4423    0.2028    0.3788    0.2947    0.1984    0.2341    0.1306     0.4182    0.3835     0.1057     0.184     0.197     0.1674     0.0583     0.1401    0.1628     0.0621     0.0203     0.053      0.0742     0.0409     0.0061     0.0125     0.0084     0.0089      0.0048      0.0094      0.0191      0.014       0.0049      0.0052      0.0044\n",
       " 0.0226679  0.0307734  0.0159199  0.0269009  0.0413339  0.0243653  0.0465541  0.0927743  0.22725   0.23416   0.214739  0.152707  0.168172  0.276101  0.402728  0.524778  0.642015  0.60061   0.668301  0.833229  0.979197  1.0       0.819844  0.582055  0.42672   0.478485  0.479472  0.256202  0.204616  0.389244  0.248376  0.380147  0.413771  0.22894   0.155143   0.351039  0.423398   0.3604     0.254551  0.18484   0.11546    0.204972   0.171586  0.104364   0.0646293  0.0325388  0.0638846  0.0702909  0.0388228  0.0220862  0.0147465  0.0119305  0.00316794  0.0108467   0.00422144  0.00973069  0.00571061  0.00823589  0.00105531  0.00760925\n",
       " 0.0333     0.0221     0.027      0.0481     0.0679     0.0981     0.0843     0.1172     0.0759    0.092     0.1475    0.0522    0.1119    0.097     0.1174    0.1678    0.1642    0.1205    0.0494    0.1544    0.3485    0.6146    0.9146    0.9364    0.8677    0.8772    0.8553    0.8833    1.0       0.8296    0.6601    0.5499    0.5716    0.6859    0.6825     0.5142    0.275      0.1358     0.1551    0.2646    0.1994     0.1883     0.2746    0.1651     0.0575     0.0695     0.0598     0.0456     0.0021     0.0068     0.0036     0.0022     0.0032      0.006       0.0054      0.0063      0.0143      0.0132      0.0051      0.0041\n",
       " 0.0856     0.0454     0.0382     0.0203     0.0385     0.0534     0.214      0.311      0.2837    0.2751    0.2707    0.0946    0.102     0.4519    0.6737    0.6699    0.7066    0.5632    0.3785    0.2721    0.5297    0.7697    0.8643    0.9304    0.9372    0.6247    0.6024    0.681     0.5047    0.5775    0.4754    0.24      0.2779    0.1997    0.5305     0.7409    0.7775     0.4424     0.1416    0.3508    0.4482     0.4208     0.3054    0.2235     0.2611     0.2798     0.2392     0.2021     0.1326     0.0358     0.0128     0.0172     0.0138      0.0079      0.0037      0.0051      0.0258      0.0102      0.0037      0.0037\n",
       " 0.0368693  0.0561247  0.0430298  0.030611   0.110402   0.179765   0.19121    0.178224   0.235215  0.28136   0.339534  0.405393  0.494685  0.590809  0.678626  0.714663  0.743715  0.793864  0.851345  0.932753  0.948803  0.918521  0.858324  0.814885  0.766692  0.726471  0.681799  0.607185  0.524697  0.420311  0.293568  0.17877   0.126442  0.101135  0.0888827  0.179322  0.197978   0.244313   0.30249   0.280232  0.205388   0.14972    0.094763  0.176856   0.145885   0.0910775  0.10518    0.0952095  0.0683095  0.0194744  0.0216     0.0153     0.0115981   0.0176861   0.0178155   0.00492496  0.00726919  0.0074463   0.00874613  0.00922134\n",
       " 0.0123339  0.0569336  0.0348408  0.015308   0.0391569  0.0934446  0.136245   0.147655   0.214931  0.272209  0.331631  0.33008   0.285172  0.212059  0.164242  0.195294  0.252306  0.413625  0.635216  0.720814  0.797118  0.79858   0.84222   0.957761  0.959022  0.951895  0.974265  0.957191  0.850885  0.629881  0.388692  0.303651  0.244702  0.23039   0.227305   0.129278  0.0608848  0.0660392  0.142775  0.146766  0.0637615  0.0755703  0.155575  0.182713   0.18143    0.198565   0.156409   0.100377   0.0473647  0.0118135  0.0170199  0.0145403  0.00897902  0.00667308  0.00354678  0.00480164  0.00384678  0.00268761  0.00364513  0.00594627\n",
       " 0.0109     0.0093     0.0121     0.0378     0.0679     0.0863     0.1004     0.0664     0.0941    0.1036    0.0972    0.0501    0.1546    0.3404    0.4804    0.657     0.7738    0.7827    0.8152    0.8129    0.8297    0.8535    0.887     0.8894    0.898     0.9667    1.0       0.9134    0.6762    0.4659    0.2895    0.2959    0.1746    0.2112    0.2569     0.2276    0.2149     0.1601     0.0371    0.0117    0.0488     0.0288     0.0597    0.0431     0.0369     0.0025     0.0327     0.0257     0.0182     0.0108     0.0124     0.0077     0.0023      0.0117      0.0053      0.0077      0.0076      0.0056      0.0055      0.0039\n",
       " 0.0235864  0.0267253  0.0396926  0.0318637  0.0689896  0.0545767  0.0795467  0.105524   0.161558  0.206554  0.233676  0.291486  0.289127  0.263473  0.193607  0.212876  0.225302  0.312207  0.504905  0.637815  0.763696  0.781269  0.766106  0.887861  0.939367  0.983555  1.0       0.953909  0.850331  0.658695  0.457635  0.324799  0.290894  0.207136  0.127556   0.042702  0.0842573  0.126457   0.113318  0.133581  0.0539198  0.140917   0.240732  0.264371   0.237127   0.214863   0.170618   0.106596   0.0547353  0.0207727  0.0186866  0.0127607  0.00632404  0.00494548  0.00370361  0.00220401  0.00409238  0.0017      0.00253527  0.00280982\n",
       " 0.0217333  0.0292015  0.0135834  0.0362044  0.0420561  0.0519785  0.0990191  0.119325   0.207241  0.208331  0.193626  0.154236  0.157297  0.20299   0.326431  0.449671  0.555522  0.566455  0.642344  0.811011  0.951287  1.0       0.866446  0.667401  0.494904  0.393224  0.294464  0.152377  0.240344  0.37463   0.291156  0.43584   0.403108  0.205447  0.0912083  0.297045  0.402412   0.355642   0.260286  0.180167  0.138953   0.142396   0.112069  0.0921713  0.0564728  0.0373818  0.0562804  0.0525335  0.0243789  0.0166485  0.0139818  0.0106985  0.00223334  0.00770307  0.00405152  0.00611974  0.00681514  0.00636669  0.00160757  0.00416822"
      ]
     },
     "execution_count": 170,
     "metadata": {},
     "output_type": "execute_result"
    }
   ],
   "source": [
    "solarlabels = df1.Clase\n",
    "solarlabelsmap = labelmap(solarlabels)\n",
    "y = labelencode(solarlabelsmap, solarlabels)\n",
    "X =Matrix(select!(df1, Not(:Clase)))"
   ]
  },
  {
   "cell_type": "code",
   "execution_count": 171,
   "metadata": {},
   "outputs": [
    {
     "data": {
      "text/plain": [
       "192-element Vector{Int64}:\n",
       "   2\n",
       "   3\n",
       "   8\n",
       "  17\n",
       "  21\n",
       "  22\n",
       "  27\n",
       "  31\n",
       "  32\n",
       "  35\n",
       "  44\n",
       "  59\n",
       "  60\n",
       "   ⋮\n",
       " 636\n",
       " 638\n",
       " 643\n",
       " 644\n",
       " 646\n",
       " 650\n",
       " 651\n",
       " 652\n",
       " 654\n",
       " 656\n",
       " 660\n",
       " 666"
      ]
     },
     "execution_count": 171,
     "metadata": {},
     "output_type": "execute_result"
    }
   ],
   "source": [
    "## Seleccionamos las observaciones para Entrenamiento y Prueba\n",
    "trainids = perclass_splits(y,0.7)\n",
    "testids = setdiff(1:length(y),trainids)"
   ]
  },
  {
   "cell_type": "code",
   "execution_count": 172,
   "metadata": {},
   "outputs": [],
   "source": [
    "# Cargamos los paquetes de python \n",
    "using Pkg; #for p in [\"ScikitLearn\", \"RDatasets\", \"DataFrames\", \"MLJBase\"]; \n",
    "            #haskey(Pkg.installed(),p) || Pkg.add(p); end\n",
    "using ScikitLearn\n",
    "using RDatasets\n",
    "using DataFrames"
   ]
  },
  {
   "cell_type": "code",
   "execution_count": 173,
   "metadata": {},
   "outputs": [
    {
     "name": "stderr",
     "output_type": "stream",
     "text": [
      "WARNING: redefinition of constant LogisticRegression. This may fail, cause incorrect answers, or produce other errors.\n"
     ]
    },
    {
     "ename": "LoadError",
     "evalue": "cannot assign a value to variable DecisionTree.DecisionTreeClassifier from module Main",
     "output_type": "error",
     "traceback": [
      "cannot assign a value to variable DecisionTree.DecisionTreeClassifier from module Main",
      "",
      "Stacktrace:",
      " [1] top-level scope",
      "   @ ~/.julia/packages/ScikitLearn/Kn82b/src/Skcore.jl:187",
      " [2] eval",
      "   @ ./boot.jl:373 [inlined]",
      " [3] include_string(mapexpr::typeof(REPL.softscope), mod::Module, code::String, filename::String)",
      "   @ Base ./loading.jl:1196"
     ]
    }
   ],
   "source": [
    "@sk_import linear_model : LogisticRegression\n",
    "@sk_import tree : DecisionTreeClassifier\n",
    "@sk_import neighbors: KNeighborsClassifier\n",
    "@sk_import svm : SVC\n",
    "@sk_import ensemble : RandomForestClassifier\n",
    "@sk_import model_selection : train_test_split\n",
    "@sk_import metrics : accuracy_score"
   ]
  },
  {
   "cell_type": "code",
   "execution_count": 174,
   "metadata": {},
   "outputs": [],
   "source": [
    "## Arreglamos las bases para el entrenamiento\n",
    "\n",
    "features = [\"Feature1\",\"Feature2\",\"Feature3\",\"Feature4\",\"Feature5\",\"Feature6\",\"Feature7\",\"Feature8\",\"Feature9\",\"Feature10\",\n",
    "            \"Feature11\",\"Feature12\",\"Feature13\",\"Feature14\",\"Feature15\",\"Feature16\",\"Feature17\",\"Feature18\",\"Feature19\",\"Feature20\",\n",
    "            \"Feature21\",\"Feature22\",\"Feature23\",\"Feature24\",\"Feature25\",\"Feature26\",\"Feature27\",\"Feature28\",\"Feature29\",\"Feature30\",\n",
    "            \"Feature31\",\"Feature32\",\"Feature33\",\"Feature34\",\"Feature35\",\"Feature36\",\"Feature37\",\"Feature38\",\"Feature39\",\"Feature40\",\n",
    "            \"Feature41\",\"Feature42\",\"Feature43\",\"Feature44\",\"Feature45\",\"Feature46\",\"Feature47\",\"Feature48\",\"Feature49\",\"Feature50\",\n",
    "            \"Feature51\",\"Feature52\",\"Feature53\",\"Feature54\",\"Feature55\",\"Feature56\",\"Feature57\",\"Feature58\",\"Feature59\",\"Feature60\"];\n",
    "target = \"Clase\";\n",
    "\n",
    "XX = convert(Array, X);\n",
    "yy = convert(Array, y);"
   ]
  },
  {
   "cell_type": "code",
   "execution_count": 175,
   "metadata": {},
   "outputs": [],
   "source": [
    "struct ModelSelector\n",
    "    model_type\n",
    "    test_size\n",
    "    state\n",
    "    model_obj\n",
    "end"
   ]
  },
  {
   "cell_type": "code",
   "execution_count": 176,
   "metadata": {},
   "outputs": [
    {
     "data": {
      "text/plain": [
       "ModelSelector"
      ]
     },
     "execution_count": 176,
     "metadata": {},
     "output_type": "execute_result"
    }
   ],
   "source": [
    "function ModelSelector(test_size::Float64, \n",
    "                       state::Int; \n",
    "                       model_type=\"lr\")\n",
    "\n",
    "    if model_type == \"lr\"\n",
    "      model_obj = LogisticRegression();\n",
    "      println(\"Logistic Regression Model...\")\n",
    "    elseif model_type == \"dt\"\n",
    "      model_obj = DecisionTreeClassifier();\n",
    "      println(\"Decision Tree Model...\")\n",
    "    elseif model_type == \"rf\"\n",
    "      model_obj = RandomForestClassifier();\n",
    "      println(\"Random Forest Model...\")\n",
    "        \n",
    "    elseif model_type == \"svm\"\n",
    "      model_obj = SVC();\n",
    "      println(\"Support Vector Machine Model...\")  \n",
    "        \n",
    "    elseif model_type == \"knn\"\n",
    "      model_obj = KNeighborsClassifier();\n",
    "      println(\"KNeighborsClassifier  Model...\")\n",
    "        \n",
    "    else\n",
    "      println(\"Not Supported...\")\n",
    "      return\n",
    "    end\n",
    "\n",
    "    ModelSelector(model_type, test_size, state, model_obj)\n",
    "\n",
    "end"
   ]
  },
  {
   "cell_type": "markdown",
   "metadata": {},
   "source": [
    "La métrica seleccionada para identificar el mejor modelo es `Accuracy`, esto se debe a varias cosas:\n",
    "\n",
    "1) Estamos en un entorno donde las clases están balanceadas \\\n",
    "2) Por ser un problema de clasificación, esta medida captura mejor los individuos corrrectamente clasificados e las 2 clases y divide sobre el total de individuos.\n"
   ]
  },
  {
   "cell_type": "code",
   "execution_count": 177,
   "metadata": {},
   "outputs": [],
   "source": [
    "function (m::ModelSelector)(X, y)\n",
    "\n",
    "    X_train, X_test, y_train, y_test = X[trainids,:],  X[testids,:], y[trainids],  y[testids]\n",
    "    \n",
    "    train_test_split(X, y, test_size=m.test_size, random_state=m.state);\n",
    "\n",
    "    ScikitLearn.fit!(m.model_obj, X_train, y_train);\n",
    "    preds = ScikitLearn.predict(m.model_obj, X_test);\n",
    "\n",
    "    acc = findaccuracy(preds, y_test);\n",
    "\n",
    "    println(size(X_train), size(y_train), size(X_test), size(y_test))\n",
    "    println(\"Model Accuracy : \", acc)\n",
    "\n",
    "    return acc\n",
    "\n",
    "end\n",
    "\n"
   ]
  },
  {
   "cell_type": "markdown",
   "metadata": {},
   "source": [
    "Ajustamos varios modelos y seleccionamos el que maoyr `Accuracy` obtiene, en este caso se obtiene que los mejores modelos son: 1) `Decision Tree Model` y 2) `KNeighborsClassifier`"
   ]
  },
  {
   "cell_type": "code",
   "execution_count": 178,
   "metadata": {},
   "outputs": [
    {
     "name": "stdout",
     "output_type": "stream",
     "text": [
      "Logistic Regression Model...\n",
      "(474, 60)(474,)(192, 60)(192,)\n",
      "Model Accuracy : 0.8333333333333334\n",
      "Decision Tree Model...\n",
      "(474, 60)(474,)(192, 60)(192,)\n",
      "Model Accuracy : 0.953125\n",
      "Random Forest Model...\n",
      "(474, 60)(474,)(192, 60)(192,)\n",
      "Model Accuracy : 0.9791666666666666\n",
      "KNeighborsClassifier  Model...\n",
      "(474, 60)(474,)(192, 60)(192,)\n",
      "Model Accuracy : 0.953125\n",
      "Support Vector Machine Model...\n",
      "(474, 60)(474,)(192, 60)(192,)\n",
      "Model Accuracy : 0.9166666666666666\n"
     ]
    },
    {
     "data": {
      "text/plain": [
       "0.9166666666666666"
      ]
     },
     "execution_count": 178,
     "metadata": {},
     "output_type": "execute_result"
    }
   ],
   "source": [
    "ModelSelector(0.2,100)(XX, yy);\n",
    "ModelSelector(0.2,100, model_type = \"dt\")(XX, yy);\n",
    "ModelSelector(0.2,100, model_type = \"rf\")(XX, yy);\n",
    "ModelSelector(0.2,100, model_type = \"knn\")(XX, yy);\n",
    "ModelSelector(0.2,100, model_type = \"svm\")(XX, yy)"
   ]
  },
  {
   "cell_type": "code",
   "execution_count": null,
   "metadata": {},
   "outputs": [],
   "source": []
  }
 ],
 "metadata": {
  "kernelspec": {
   "display_name": "Julia 1.7.2",
   "language": "julia",
   "name": "julia-1.7"
  },
  "language_info": {
   "file_extension": ".jl",
   "mimetype": "application/julia",
   "name": "julia",
   "version": "1.7.2"
  }
 },
 "nbformat": 4,
 "nbformat_minor": 4
}
